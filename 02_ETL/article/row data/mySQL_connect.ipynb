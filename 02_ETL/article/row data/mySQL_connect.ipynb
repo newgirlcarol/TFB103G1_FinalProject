{
 "cells": [
  {
   "cell_type": "code",
   "execution_count": 20,
   "id": "135a95b5-3d43-4af6-9b64-501c05c79e87",
   "metadata": {},
   "outputs": [
    {
     "name": "stdout",
     "output_type": "stream",
     "text": [
      "Requirement already satisfied: pymysql in /opt/conda/lib/python3.9/site-packages (1.0.2)\n"
     ]
    }
   ],
   "source": [
    "!pip install pymysql"
   ]
  },
  {
   "cell_type": "code",
   "execution_count": 1,
   "id": "f790a76c-2879-40e9-a45a-bbc162d3d9da",
   "metadata": {},
   "outputs": [],
   "source": [
    "'''\n",
    "使用說明:\n",
    "#  僅供以 pandas.df 對專題用的 MySQL db 進行資料的輸出,輸入 (不得修改SQL內容)\n",
    "1. 匯入class --> from connect_MySQL import MysqlDataFrame\n",
    "2. 需要匯入packages --> pymysql, pandas, sqlalchemy.create_engine, logging\n",
    "3. 建立 MysqlDataFrame 物件 --> df = MysqlDataFrame('user', 'pwd', 'db')\n",
    "4  print(df) --> 可印出使用說明\n",
    "5. df.show_info() --> 顯示現有的 databases, tables 等資訊\n",
    "6. df.get_pandas_df(\"table名稱\") --> 得到 pandas.df\n",
    "7. df.use_sql_query(\"自己輸入的SQL語法\") --> 得到 pandas.df\n",
    "8. insert_pandas_df(df, \"table名稱\") --> 將 pandas.df 填入 MySQL\n",
    "9. convert_str_to_list(df, column名稱) --> 將 series 內的 str 轉成 list\n",
    "'''\n",
    "\n",
    "import pandas as pd\n",
    "import logging\n",
    "from sqlalchemy import create_engine\n",
    "\n",
    "\n",
    "class MysqlDataFrame:\n",
    "    def __init__(self, user, pwd, db='tfb1031_project', ip='10.2.16.174'):\n",
    "        self.user = user\n",
    "        self.pwd = pwd\n",
    "        self.db = db\n",
    "        self.__conn_ip = ip\n",
    "        self.__stopWords = [\n",
    "            'alter', 'update', 'delete', 'drop', 'insert',\n",
    "            'table', 'database'\n",
    "            ]\n",
    "        self.__sysDatabase = [\n",
    "            'information_schema', 'performance_schema', 'mysql',\n",
    "            'sakila', 'sys', 'world'\n",
    "            ]\n",
    "\n",
    "    def __repr__(self):\n",
    "        return '''\n",
    "        1. Call \"show_info()\" to get the db & table list\n",
    "        2. Call \"get_pandas_df()\" to get a pd.DataFrame from MySQL table\n",
    "        3. Call \"use_sql_query()\" to get a pd.DataFrame with customized SQL \n",
    "        4. Call \"insert_pandas_df()\" to insert pd.DataFrame to MySQL \n",
    "        5. Call \"convert_str_to_list()\" to convert string to list, return pd.series\n",
    "        '''\n",
    "\n",
    "    def __create_conn(self):\n",
    "        try:\n",
    "            engine = create_engine(\n",
    "                f'mysql+pymysql://{self.user}:{self.pwd}@{self.__conn_ip}:3306/{self.db}'\n",
    "                )\n",
    "            return engine\n",
    "        except Exception as err:\n",
    "            print(logging.error(str(err)))\n",
    "\n",
    "    def show_info(self):\n",
    "        engine = self.__create_conn()\n",
    "\n",
    "        # Get db list\n",
    "        sql_db = 'SHOW databases;'\n",
    "        query_db = engine.execute(sql_db).fetchall()\n",
    "        db = [i[0] for j, i in enumerate(query_db) if i[0] not in self.__sysDatabase]\n",
    "        # Get table list\n",
    "        sql_table = 'SHOW tables;'\n",
    "        query_table = engine.execute(sql_table).fetchall()\n",
    "        table = [i[0] for i in query_table]\n",
    "\n",
    "        information = f'Use db = {self.db}\\nUser = {self.user}\\nDatabase list = {db}\\nTable list =  {table}'\n",
    "        return print(information)\n",
    "\n",
    "    def get_pandas_df(self, table='test'):\n",
    "        engine = self.__create_conn()\n",
    "        sql = f'select * from {table};'\n",
    "        try:\n",
    "            df = pd.read_sql_query(sql, engine)\n",
    "            return df\n",
    "        except Exception as err:\n",
    "            print(logging.error(str(err)))\n",
    "\n",
    "    # Use user-defined SQL\n",
    "    def use_sql_query(self, input_sql):\n",
    "        engine = self.__create_conn()\n",
    "        for word in self.__stopWords:\n",
    "            if word in input_sql:\n",
    "                return print(\"Please don't alter the data\")\n",
    "        try:\n",
    "            df = pd.read_sql_query(input_sql, engine)\n",
    "            return df\n",
    "        except Exception as err:\n",
    "            print(logging.error(str(err)))\n",
    "\n",
    "    def insert_pandas_df(self, df, table):\n",
    "        engine = self.__create_conn()\n",
    "        try:\n",
    "            df.to_sql(table, engine, if_exists='append', index=0)\n",
    "        except Exception as err:\n",
    "            print(logging.error(str(err)))\n",
    "\n",
    "    def convert_str_to_list(self, df, column):\n",
    "        import ast\n",
    "        return df[f'{column}'].apply(lambda x: ast.literal_eval(x))"
   ]
  },
  {
   "cell_type": "code",
   "execution_count": 2,
   "id": "83715d46-7ed4-4c5b-9373-e8cac6698e2a",
   "metadata": {},
   "outputs": [
    {
     "name": "stdout",
     "output_type": "stream",
     "text": [
      "Use db = tfb1031_project\n",
      "User = tfb1031_19\n",
      "Database list = ['app_accounting', 'test', 'tfb1031_project']\n",
      "Table list =  ['author_feature', 'bnb', 'bnb_article', 'bnb_recommend_w2v', 'res_recommend_w2v', 'restaurant', 'test_restaurant', 'user_cost', 'user_info', 'user_questionnaire']\n"
     ]
    }
   ],
   "source": [
    "df = MysqlDataFrame('account', 'password')\n",
    "df.show_info()"
   ]
  },
  {
   "cell_type": "code",
   "execution_count": 7,
   "id": "387a2714-46da-4e8f-856a-d46768679f4c",
   "metadata": {},
   "outputs": [],
   "source": [
    "a = df.get_pandas_df('bnb_article')"
   ]
  },
  {
   "cell_type": "code",
   "execution_count": 15,
   "id": "2ef5d855-8582-4600-98f9-5a89b36caef9",
   "metadata": {},
   "outputs": [
    {
     "data": {
      "text/html": [
       "<div>\n",
       "<style scoped>\n",
       "    .dataframe tbody tr th:only-of-type {\n",
       "        vertical-align: middle;\n",
       "    }\n",
       "\n",
       "    .dataframe tbody tr th {\n",
       "        vertical-align: top;\n",
       "    }\n",
       "\n",
       "    .dataframe thead th {\n",
       "        text-align: right;\n",
       "    }\n",
       "</style>\n",
       "<table border=\"1\" class=\"dataframe\">\n",
       "  <thead>\n",
       "    <tr style=\"text-align: right;\">\n",
       "      <th></th>\n",
       "      <th>bnb_art_id</th>\n",
       "      <th>title</th>\n",
       "      <th>content</th>\n",
       "      <th>date</th>\n",
       "      <th>art_url</th>\n",
       "      <th>image_url</th>\n",
       "      <th>aut_id</th>\n",
       "      <th>bnb_id</th>\n",
       "    </tr>\n",
       "  </thead>\n",
       "  <tbody>\n",
       "    <tr>\n",
       "      <th>0</th>\n",
       "      <td>40000001</td>\n",
       "      <td>台北西門町住宿|捷絲旅|四星級飯店|只要平價即可享受|逛完西門町|直接走回</td>\n",
       "      <td>['台北美食', '美式校園輕食餐廳', '農人餐桌', '親子餐廳', '徹思叔叔咖啡廳'...</td>\n",
       "      <td>2021-10-12</td>\n",
       "      <td>https://zh472.pixnet.net/blog/post/333805750-%...</td>\n",
       "      <td>['https://pic.pimg.tw/zh472/1631501995-1172602...</td>\n",
       "      <td>30005027.0</td>\n",
       "      <td>NaN</td>\n",
       "    </tr>\n",
       "    <tr>\n",
       "      <th>1</th>\n",
       "      <td>40000002</td>\n",
       "      <td>天成集團住宿趣|天成文旅|華山町|忠孝新生站|華山文創園區|結合藝廊與旅</td>\n",
       "      <td>['天成文旅', '華山町', '位於華山文化創意園區附近', '是一棟充滿故事的建築物',...</td>\n",
       "      <td>2021-10-01</td>\n",
       "      <td>https://laurasweet0712.pixnet.net/blog/post/22...</td>\n",
       "      <td>['https://paper-attachments.dropbox.com/s_523C...</td>\n",
       "      <td>30000558.0</td>\n",
       "      <td>NaN</td>\n",
       "    </tr>\n",
       "    <tr>\n",
       "      <th>2</th>\n",
       "      <td>40000003</td>\n",
       "      <td>五倍券|台北住宿優惠攻略|餐飲再放大1|5倍|住宿放大2倍|用在這些飯店</td>\n",
       "      <td>['五倍券發放', '使用就在下週', '很久沒出國', '只好轉戰好的飯店放鬆CHILL一...</td>\n",
       "      <td>2021-09-30</td>\n",
       "      <td>https://ohmygodohoh.pixnet.net/blog/post/33427...</td>\n",
       "      <td>['https://pic.pimg.tw/ohmygodohoh/1632990704-1...</td>\n",
       "      <td>30005360.0</td>\n",
       "      <td>NaN</td>\n",
       "    </tr>\n",
       "    <tr>\n",
       "      <th>3</th>\n",
       "      <td>40000004</td>\n",
       "      <td>台北住宿推薦|台北住宿推薦|超夢幻夜景飯店|TOP10</td>\n",
       "      <td>['台北住宿推薦', '超夢幻市景', '台北是台灣的首都', '是旅遊首選之一', '台北...</td>\n",
       "      <td>2021-09-26</td>\n",
       "      <td>https://mazda770.pixnet.net/blog/post/33421641...</td>\n",
       "      <td>['https://pic.pimg.tw/mazda770/1570324867-2843...</td>\n",
       "      <td>30005250.0</td>\n",
       "      <td>NaN</td>\n",
       "    </tr>\n",
       "    <tr>\n",
       "      <th>4</th>\n",
       "      <td>40000005</td>\n",
       "      <td>台北住宿|首都唯客樂飯店|松江南京老牌平價商旅|日式套房|早餐分享</td>\n",
       "      <td>['之前住過首都大飯店旗艦館', '很喜歡這家的住宿', '很可惜去年疫情關係停業了', '...</td>\n",
       "      <td>2021-08-20</td>\n",
       "      <td>https://tloveq.pixnet.net/blog/post/47813642</td>\n",
       "      <td>['https://pic.pimg.tw/tloveq/1627810982-275640...</td>\n",
       "      <td>30000062.0</td>\n",
       "      <td>NaN</td>\n",
       "    </tr>\n",
       "  </tbody>\n",
       "</table>\n",
       "</div>"
      ],
      "text/plain": [
       "   bnb_art_id                                  title  \\\n",
       "0    40000001  台北西門町住宿|捷絲旅|四星級飯店|只要平價即可享受|逛完西門町|直接走回   \n",
       "1    40000002   天成集團住宿趣|天成文旅|華山町|忠孝新生站|華山文創園區|結合藝廊與旅   \n",
       "2    40000003   五倍券|台北住宿優惠攻略|餐飲再放大1|5倍|住宿放大2倍|用在這些飯店   \n",
       "3    40000004            台北住宿推薦|台北住宿推薦|超夢幻夜景飯店|TOP10   \n",
       "4    40000005      台北住宿|首都唯客樂飯店|松江南京老牌平價商旅|日式套房|早餐分享   \n",
       "\n",
       "                                             content        date  \\\n",
       "0  ['台北美食', '美式校園輕食餐廳', '農人餐桌', '親子餐廳', '徹思叔叔咖啡廳'...  2021-10-12   \n",
       "1  ['天成文旅', '華山町', '位於華山文化創意園區附近', '是一棟充滿故事的建築物',...  2021-10-01   \n",
       "2  ['五倍券發放', '使用就在下週', '很久沒出國', '只好轉戰好的飯店放鬆CHILL一...  2021-09-30   \n",
       "3  ['台北住宿推薦', '超夢幻市景', '台北是台灣的首都', '是旅遊首選之一', '台北...  2021-09-26   \n",
       "4  ['之前住過首都大飯店旗艦館', '很喜歡這家的住宿', '很可惜去年疫情關係停業了', '...  2021-08-20   \n",
       "\n",
       "                                             art_url  \\\n",
       "0  https://zh472.pixnet.net/blog/post/333805750-%...   \n",
       "1  https://laurasweet0712.pixnet.net/blog/post/22...   \n",
       "2  https://ohmygodohoh.pixnet.net/blog/post/33427...   \n",
       "3  https://mazda770.pixnet.net/blog/post/33421641...   \n",
       "4       https://tloveq.pixnet.net/blog/post/47813642   \n",
       "\n",
       "                                           image_url      aut_id  bnb_id  \n",
       "0  ['https://pic.pimg.tw/zh472/1631501995-1172602...  30005027.0     NaN  \n",
       "1  ['https://paper-attachments.dropbox.com/s_523C...  30000558.0     NaN  \n",
       "2  ['https://pic.pimg.tw/ohmygodohoh/1632990704-1...  30005360.0     NaN  \n",
       "3  ['https://pic.pimg.tw/mazda770/1570324867-2843...  30005250.0     NaN  \n",
       "4  ['https://pic.pimg.tw/tloveq/1627810982-275640...  30000062.0     NaN  "
      ]
     },
     "execution_count": 15,
     "metadata": {},
     "output_type": "execute_result"
    }
   ],
   "source": [
    "# a.head()\n",
    "# a.shape"
   ]
  },
  {
   "cell_type": "code",
   "execution_count": 12,
   "id": "3e00d7ec-ecf9-48ec-b4a2-f5ab05e70f98",
   "metadata": {},
   "outputs": [],
   "source": [
    "a.to_csv('allDatas.csv', encoding='utf-8', index=None)"
   ]
  },
  {
   "cell_type": "code",
   "execution_count": 17,
   "id": "2ecc658c-ba04-4aba-a08f-c781a82695b1",
   "metadata": {},
   "outputs": [
    {
     "data": {
      "text/plain": [
       "(5699, 4)"
      ]
     },
     "execution_count": 17,
     "metadata": {},
     "output_type": "execute_result"
    }
   ],
   "source": [
    "b = df.get_pandas_df('author_feature')\n",
    "b.shape"
   ]
  },
  {
   "cell_type": "code",
   "execution_count": 18,
   "id": "806c1563-0c2f-41e4-9600-8d256032dd93",
   "metadata": {},
   "outputs": [
    {
     "data": {
      "text/html": [
       "<div>\n",
       "<style scoped>\n",
       "    .dataframe tbody tr th:only-of-type {\n",
       "        vertical-align: middle;\n",
       "    }\n",
       "\n",
       "    .dataframe tbody tr th {\n",
       "        vertical-align: top;\n",
       "    }\n",
       "\n",
       "    .dataframe thead th {\n",
       "        text-align: right;\n",
       "    }\n",
       "</style>\n",
       "<table border=\"1\" class=\"dataframe\">\n",
       "  <thead>\n",
       "    <tr style=\"text-align: right;\">\n",
       "      <th></th>\n",
       "      <th>aut_id</th>\n",
       "      <th>author</th>\n",
       "      <th>tag</th>\n",
       "      <th>author_group</th>\n",
       "    </tr>\n",
       "  </thead>\n",
       "  <tbody>\n",
       "    <tr>\n",
       "      <th>0</th>\n",
       "      <td>30000001</td>\n",
       "      <td>*GENISOFI*</td>\n",
       "      <td>None</td>\n",
       "      <td>None</td>\n",
       "    </tr>\n",
       "    <tr>\n",
       "      <th>1</th>\n",
       "      <td>30000002</td>\n",
       "      <td>000926</td>\n",
       "      <td>None</td>\n",
       "      <td>None</td>\n",
       "    </tr>\n",
       "    <tr>\n",
       "      <th>2</th>\n",
       "      <td>30000003</td>\n",
       "      <td>00愛哭又愛吃</td>\n",
       "      <td>None</td>\n",
       "      <td>None</td>\n",
       "    </tr>\n",
       "    <tr>\n",
       "      <th>3</th>\n",
       "      <td>30000004</td>\n",
       "      <td>1234</td>\n",
       "      <td>None</td>\n",
       "      <td>None</td>\n",
       "    </tr>\n",
       "    <tr>\n",
       "      <th>4</th>\n",
       "      <td>30000005</td>\n",
       "      <td>1313亮晶晶</td>\n",
       "      <td>None</td>\n",
       "      <td>None</td>\n",
       "    </tr>\n",
       "  </tbody>\n",
       "</table>\n",
       "</div>"
      ],
      "text/plain": [
       "     aut_id      author   tag author_group\n",
       "0  30000001  *GENISOFI*  None         None\n",
       "1  30000002      000926  None         None\n",
       "2  30000003     00愛哭又愛吃  None         None\n",
       "3  30000004        1234  None         None\n",
       "4  30000005     1313亮晶晶  None         None"
      ]
     },
     "execution_count": 18,
     "metadata": {},
     "output_type": "execute_result"
    }
   ],
   "source": [
    "b.head()"
   ]
  },
  {
   "cell_type": "code",
   "execution_count": 19,
   "id": "3395f580-6446-4f65-8d3f-bbdeb9b0d67a",
   "metadata": {},
   "outputs": [],
   "source": [
    "b.to_csv('allAuthor.csv', encoding='utf-8', index=None)"
   ]
  },
  {
   "cell_type": "code",
   "execution_count": 3,
   "id": "c5691748-3dd7-4237-bea3-2de1b28d21ce",
   "metadata": {},
   "outputs": [],
   "source": [
    "c = df.get_pandas_df('bnb')\n",
    "# c = pd.Series(c['bnb_name'])\n",
    "c.to_csv('./mySQL_bnb.csv', index=None)"
   ]
  }
 ],
 "metadata": {
  "kernelspec": {
   "display_name": "Python 3 (ipykernel)",
   "language": "python",
   "name": "python3"
  },
  "language_info": {
   "codemirror_mode": {
    "name": "ipython",
    "version": 3
   },
   "file_extension": ".py",
   "mimetype": "text/x-python",
   "name": "python",
   "nbconvert_exporter": "python",
   "pygments_lexer": "ipython3",
   "version": "3.9.7"
  }
 },
 "nbformat": 4,
 "nbformat_minor": 5
}
