{
 "cells": [
  {
   "cell_type": "code",
   "execution_count": 1,
   "id": "c35f5569-592d-4d9c-a9ae-a03c45243289",
   "metadata": {},
   "outputs": [],
   "source": [
    "import pandas as pd\n",
    "import numpy as np"
   ]
  },
  {
   "cell_type": "code",
   "execution_count": 2,
   "id": "ffc1c445-779b-47d2-b0cd-f171aedee9ce",
   "metadata": {},
   "outputs": [
    {
     "name": "stdout",
     "output_type": "stream",
     "text": [
      "<class 'pandas.core.frame.DataFrame'>\n",
      "Int64Index: 4616 entries, 0 to 4615\n",
      "Data columns (total 5 columns):\n",
      " #   Column      Non-Null Count  Dtype \n",
      "---  ------      --------------  ----- \n",
      " 0   author      4616 non-null   object\n",
      " 1   title       4616 non-null   object\n",
      " 2   article     4616 non-null   object\n",
      " 3   hotel_name  2721 non-null   object\n",
      " 4   keywords    4616 non-null   object\n",
      "dtypes: object(5)\n",
      "memory usage: 216.4+ KB\n"
     ]
    }
   ],
   "source": [
    "# 讀入檔案\n",
    "df = pd.read_csv('clean_contextV1.csv', index_col=0)\n",
    "# print(df.shape)\n",
    "# df.head()\n",
    "df.info()"
   ]
  },
  {
   "cell_type": "code",
   "execution_count": 3,
   "id": "b78eb08f-b9a5-44c0-b632-8dcaedc5b87f",
   "metadata": {},
   "outputs": [
    {
     "name": "stdout",
     "output_type": "stream",
     "text": [
      "<class 'pandas.core.frame.DataFrame'>\n",
      "Int64Index: 4425 entries, 0 to 4567\n",
      "Data columns (total 5 columns):\n",
      " #   Column      Non-Null Count  Dtype \n",
      "---  ------      --------------  ----- \n",
      " 0   author      4425 non-null   object\n",
      " 1   title       4425 non-null   object\n",
      " 2   article     4425 non-null   object\n",
      " 3   hotel_name  2648 non-null   object\n",
      " 4   keywords    4425 non-null   object\n",
      "dtypes: object(5)\n",
      "memory usage: 207.4+ KB\n"
     ]
    }
   ],
   "source": [
    "df = df.drop_duplicates(subset='title', keep='first', inplace=False, ignore_index=False)\n",
    "df.info()"
   ]
  },
  {
   "cell_type": "code",
   "execution_count": 4,
   "id": "7806d6d4-7773-4933-afb3-d49542ceeef4",
   "metadata": {},
   "outputs": [
    {
     "name": "stdout",
     "output_type": "stream",
     "text": [
      "True\n"
     ]
    }
   ],
   "source": [
    "# 檢查是否有空值(non)\n",
    "check_for_nan = df.isnull().values.any()\n",
    "print (check_for_nan)\n",
    "df = df.dropna(subset=['hotel_name'])"
   ]
  },
  {
   "cell_type": "code",
   "execution_count": 5,
   "id": "a641983b-73e2-4fda-bb32-3db5c32f45ec",
   "metadata": {},
   "outputs": [
    {
     "data": {
      "text/html": [
       "<div>\n",
       "<style scoped>\n",
       "    .dataframe tbody tr th:only-of-type {\n",
       "        vertical-align: middle;\n",
       "    }\n",
       "\n",
       "    .dataframe tbody tr th {\n",
       "        vertical-align: top;\n",
       "    }\n",
       "\n",
       "    .dataframe thead th {\n",
       "        text-align: right;\n",
       "    }\n",
       "</style>\n",
       "<table border=\"1\" class=\"dataframe\">\n",
       "  <thead>\n",
       "    <tr style=\"text-align: right;\">\n",
       "      <th></th>\n",
       "      <th>author</th>\n",
       "      <th>title</th>\n",
       "      <th>article</th>\n",
       "      <th>hotel_name</th>\n",
       "      <th>keywords</th>\n",
       "    </tr>\n",
       "  </thead>\n",
       "  <tbody>\n",
       "    <tr>\n",
       "      <th>0</th>\n",
       "      <td>mandywei</td>\n",
       "      <td>心得|宜蘭|蘇澳|煙波大飯店蘇澳四季雙泉館</td>\n",
       "      <td>作者mandywei|喂喂不在家|看板Hotel標題|心得|蘇澳|煙波大飯店蘇澳四季雙泉館時...</td>\n",
       "      <td>[煙波大飯店]</td>\n",
       "      <td>[房間, 部分, 飲料, 早餐, 不錯, 房型, 人數, 煙波]</td>\n",
       "    </tr>\n",
       "    <tr>\n",
       "      <th>1</th>\n",
       "      <td>terry910134</td>\n",
       "      <td>心得|宜蘭|麗翔酒店礁溪館|南洋風戶外溫泉池</td>\n",
       "      <td>作者terry910134|懶人愛吃喝|看板Hotel標題|心得|宜蘭|麗翔酒店礁溪館|南洋...</td>\n",
       "      <td>[麗翔, 麗翔酒店]</td>\n",
       "      <td>[大廳, 泳池, 飯店, 鐵道, 客房, 南洋, 泡湯, 設施]</td>\n",
       "    </tr>\n",
       "    <tr>\n",
       "      <th>2</th>\n",
       "      <td>faigo3ppp</td>\n",
       "      <td>心得|宜蘭|礁溪山泉大飯店住宿含早餐與宵夜</td>\n",
       "      <td>作者faigo3ppp|Dr|Lai|看板Hotel標題|心得|宜蘭|礁溪山泉大飯店住宿含早...</td>\n",
       "      <td>[晶泉丰旅, 山泉大飯店, 綠舞國際觀光飯店, 中天溫泉, 宜蘭力麗威斯汀度假酒店, 棲蘭山...</td>\n",
       "      <td>[早餐, 宵夜, 飯店, 酒店, 頂樓, 火車, 小孩, 景觀]</td>\n",
       "    </tr>\n",
       "  </tbody>\n",
       "</table>\n",
       "</div>"
      ],
      "text/plain": [
       "        author                   title  \\\n",
       "0     mandywei   心得|宜蘭|蘇澳|煙波大飯店蘇澳四季雙泉館   \n",
       "1  terry910134  心得|宜蘭|麗翔酒店礁溪館|南洋風戶外溫泉池   \n",
       "2    faigo3ppp   心得|宜蘭|礁溪山泉大飯店住宿含早餐與宵夜   \n",
       "\n",
       "                                             article  \\\n",
       "0  作者mandywei|喂喂不在家|看板Hotel標題|心得|蘇澳|煙波大飯店蘇澳四季雙泉館時...   \n",
       "1  作者terry910134|懶人愛吃喝|看板Hotel標題|心得|宜蘭|麗翔酒店礁溪館|南洋...   \n",
       "2  作者faigo3ppp|Dr|Lai|看板Hotel標題|心得|宜蘭|礁溪山泉大飯店住宿含早...   \n",
       "\n",
       "                                          hotel_name  \\\n",
       "0                                            [煙波大飯店]   \n",
       "1                                         [麗翔, 麗翔酒店]   \n",
       "2  [晶泉丰旅, 山泉大飯店, 綠舞國際觀光飯店, 中天溫泉, 宜蘭力麗威斯汀度假酒店, 棲蘭山...   \n",
       "\n",
       "                           keywords  \n",
       "0  [房間, 部分, 飲料, 早餐, 不錯, 房型, 人數, 煙波]  \n",
       "1  [大廳, 泳池, 飯店, 鐵道, 客房, 南洋, 泡湯, 設施]  \n",
       "2  [早餐, 宵夜, 飯店, 酒店, 頂樓, 火車, 小孩, 景觀]  "
      ]
     },
     "execution_count": 5,
     "metadata": {},
     "output_type": "execute_result"
    }
   ],
   "source": [
    "# df['keywords'] = df['keywords'].apply(lambda x :' '.join(x))\n",
    "# df['hotel_name']=df['hotel_name'].apply(lambda x:x.replace(\"'\",\"\").replace(\"[\",\"\").replace(\"]\",\"\"))\n",
    "\n",
    "df['hotel_name']=df['hotel_name'].apply(lambda x:eval(x)) # string轉換為list\n",
    "df['keywords']=df['keywords'].apply(lambda x:eval(x))\n",
    "df.head(3)"
   ]
  },
  {
   "cell_type": "code",
   "execution_count": 6,
   "id": "c789c4db-00a7-480e-a64a-b8badfcf957e",
   "metadata": {},
   "outputs": [],
   "source": [
    "df = df[['author', 'hotel_name', 'keywords']]\n",
    "\n",
    "# 將hotel_name多的拆分成不同的row\n",
    "def split_row(data, column):\n",
    "    row_len = list(map(len, data[column].values))\n",
    "    rows = []\n",
    "    for i in data.columns:\n",
    "        if i == column:\n",
    "            row = np.concatenate(data[i].values)\n",
    "        else:\n",
    "            row = np.repeat(data[i].values, row_len)\n",
    "        rows.append(row)\n",
    "    # return row_len\n",
    "    return pd.DataFrame(np.dstack(tuple(rows))[0], columns=data.columns)\n",
    "\n",
    "df = split_row(df, column='hotel_name')"
   ]
  },
  {
   "cell_type": "code",
   "execution_count": 7,
   "id": "522067e3-1e55-42be-a0de-df046eda8ed3",
   "metadata": {
    "scrolled": true,
    "tags": []
   },
   "outputs": [],
   "source": [
    "# map user id and movie id to integer starting from 0 to N (num of users) and M (num of movies)\n",
    "from sklearn.preprocessing import LabelEncoder\n",
    "user_encoder = LabelEncoder()\n",
    "hotel_encoder = LabelEncoder()\n",
    "\n",
    "df['uid_int'] = user_encoder.fit_transform(df.author)\n",
    "df['hotel_int'] = hotel_encoder.fit_transform(df.hotel_name)"
   ]
  },
  {
   "cell_type": "markdown",
   "id": "fd721822-8091-400d-9a14-4982a2203bf5",
   "metadata": {},
   "source": [
    "文字轉向量 \\\n",
    "tf-idf 效果很不好"
   ]
  },
  {
   "cell_type": "code",
   "execution_count": 8,
   "id": "b56eaad6-40cb-4549-b7e7-a9a54853b0bb",
   "metadata": {},
   "outputs": [],
   "source": [
    "# from sklearn.feature_extraction.text import TfidfVectorizer\n",
    "from sklearn import metrics\n",
    "# warnings.filterwarnings('ignore')\n",
    "\n",
    "# with open('gensim.txt', 'w', encoding='utf-8') as f:\n",
    "# df['keywords']=df['keywords'].apply(lambda x:eval(x))\n",
    "datas = [i for i in df['keywords']]\n",
    "    # datas = '\\n'.join(datas)\n",
    "    # f.write(datas)\n",
    "# tf = TfidfVectorizer(max_df = 0.5) # max_df找單詞在文件中的最高出現率，取值範圍為 [0.0~1.0]\n",
    "# features = tf.fit_transform(datas).toarray()\n",
    "# print(features)\n",
    "# df1 = pd.DataFrame(features, columns=['key_features'])\n"
   ]
  },
  {
   "cell_type": "code",
   "execution_count": 9,
   "id": "474c3b90-3543-4e2b-9076-2fbfe09bf195",
   "metadata": {
    "scrolled": true,
    "tags": []
   },
   "outputs": [
    {
     "name": "stdout",
     "output_type": "stream",
     "text": [
      "Requirement already satisfied: gensim in /opt/conda/lib/python3.9/site-packages (4.1.2)\n",
      "Requirement already satisfied: numpy>=1.17.0 in /opt/conda/lib/python3.9/site-packages (from gensim) (1.19.2)\n",
      "Requirement already satisfied: smart-open>=1.8.1 in /opt/conda/lib/python3.9/site-packages (from gensim) (1.10.0)\n",
      "Requirement already satisfied: scipy>=0.18.1 in /opt/conda/lib/python3.9/site-packages (from gensim) (1.7.1)\n",
      "Requirement already satisfied: google-cloud-storage in /opt/conda/lib/python3.9/site-packages (from smart-open>=1.8.1->gensim) (1.42.3)\n",
      "Requirement already satisfied: requests in /opt/conda/lib/python3.9/site-packages (from smart-open>=1.8.1->gensim) (2.26.0)\n",
      "Requirement already satisfied: boto3 in /opt/conda/lib/python3.9/site-packages (from smart-open>=1.8.1->gensim) (1.20.5)\n",
      "Requirement already satisfied: s3transfer<0.6.0,>=0.5.0 in /opt/conda/lib/python3.9/site-packages (from boto3->smart-open>=1.8.1->gensim) (0.5.0)\n",
      "Requirement already satisfied: jmespath<1.0.0,>=0.7.1 in /opt/conda/lib/python3.9/site-packages (from boto3->smart-open>=1.8.1->gensim) (0.10.0)\n",
      "Requirement already satisfied: botocore<1.24.0,>=1.23.5 in /opt/conda/lib/python3.9/site-packages (from boto3->smart-open>=1.8.1->gensim) (1.23.5)\n",
      "Requirement already satisfied: google-cloud-core<3.0dev,>=1.6.0 in /opt/conda/lib/python3.9/site-packages (from google-cloud-storage->smart-open>=1.8.1->gensim) (2.2.1)\n",
      "Requirement already satisfied: protobuf in /opt/conda/lib/python3.9/site-packages (from google-cloud-storage->smart-open>=1.8.1->gensim) (3.15.8)\n",
      "Requirement already satisfied: google-resumable-media<3.0dev,>=1.3.0 in /opt/conda/lib/python3.9/site-packages (from google-cloud-storage->smart-open>=1.8.1->gensim) (2.1.0)\n",
      "Requirement already satisfied: google-auth<3.0dev,>=1.25.0 in /opt/conda/lib/python3.9/site-packages (from google-cloud-storage->smart-open>=1.8.1->gensim) (1.35.0)\n",
      "Requirement already satisfied: six in /opt/conda/lib/python3.9/site-packages (from google-cloud-storage->smart-open>=1.8.1->gensim) (1.16.0)\n",
      "Requirement already satisfied: google-api-core<3.0dev,>=1.29.0 in /opt/conda/lib/python3.9/site-packages (from google-cloud-storage->smart-open>=1.8.1->gensim) (2.2.2)\n",
      "Requirement already satisfied: idna<4,>=2.5 in /opt/conda/lib/python3.9/site-packages (from requests->smart-open>=1.8.1->gensim) (3.1)\n",
      "Requirement already satisfied: urllib3<1.27,>=1.21.1 in /opt/conda/lib/python3.9/site-packages (from requests->smart-open>=1.8.1->gensim) (1.26.7)\n",
      "Requirement already satisfied: charset-normalizer~=2.0.0 in /opt/conda/lib/python3.9/site-packages (from requests->smart-open>=1.8.1->gensim) (2.0.0)\n",
      "Requirement already satisfied: certifi>=2017.4.17 in /opt/conda/lib/python3.9/site-packages (from requests->smart-open>=1.8.1->gensim) (2021.10.8)\n",
      "Requirement already satisfied: python-dateutil<3.0.0,>=2.1 in /opt/conda/lib/python3.9/site-packages (from botocore<1.24.0,>=1.23.5->boto3->smart-open>=1.8.1->gensim) (2.8.2)\n",
      "Requirement already satisfied: setuptools>=40.3.0 in /opt/conda/lib/python3.9/site-packages (from google-api-core<3.0dev,>=1.29.0->google-cloud-storage->smart-open>=1.8.1->gensim) (58.2.0)\n",
      "Requirement already satisfied: googleapis-common-protos<2.0dev,>=1.52.0 in /opt/conda/lib/python3.9/site-packages (from google-api-core<3.0dev,>=1.29.0->google-cloud-storage->smart-open>=1.8.1->gensim) (1.53.0)\n",
      "Requirement already satisfied: rsa<5,>=3.1.4 in /opt/conda/lib/python3.9/site-packages (from google-auth<3.0dev,>=1.25.0->google-cloud-storage->smart-open>=1.8.1->gensim) (4.7.2)\n",
      "Requirement already satisfied: cachetools<5.0,>=2.0.0 in /opt/conda/lib/python3.9/site-packages (from google-auth<3.0dev,>=1.25.0->google-cloud-storage->smart-open>=1.8.1->gensim) (4.2.4)\n",
      "Requirement already satisfied: pyasn1-modules>=0.2.1 in /opt/conda/lib/python3.9/site-packages (from google-auth<3.0dev,>=1.25.0->google-cloud-storage->smart-open>=1.8.1->gensim) (0.2.7)\n",
      "Requirement already satisfied: google-crc32c<2.0dev,>=1.0 in /opt/conda/lib/python3.9/site-packages (from google-resumable-media<3.0dev,>=1.3.0->google-cloud-storage->smart-open>=1.8.1->gensim) (1.3.0)\n",
      "Requirement already satisfied: pyasn1<0.5.0,>=0.4.6 in /opt/conda/lib/python3.9/site-packages (from pyasn1-modules>=0.2.1->google-auth<3.0dev,>=1.25.0->google-cloud-storage->smart-open>=1.8.1->gensim) (0.4.8)\n"
     ]
    }
   ],
   "source": [
    "!pip install gensim"
   ]
  },
  {
   "cell_type": "code",
   "execution_count": 74,
   "id": "346cbb17-d994-4d14-a2bb-db7a9653859b",
   "metadata": {},
   "outputs": [],
   "source": [
    "from gensim.models import Word2Vec\n",
    "\n",
    "model = Word2Vec(datas, vector_size=100,min_count=1,workers=7, window =3, sg = 1) #size=50"
   ]
  },
  {
   "cell_type": "code",
   "execution_count": 75,
   "id": "2fd9ca4d-900e-4259-8821-902bebc3d606",
   "metadata": {},
   "outputs": [],
   "source": [
    "# # 統一維度\n",
    "def feature(row):\n",
    "    vec = np.zeros(100)\n",
    "    for word in row:\n",
    "        vec += model.wv[word]\n",
    "    return (np.average(vec))*100\n",
    "\n",
    "df['key_feature'] = df['keywords'].apply(feature)"
   ]
  },
  {
   "cell_type": "code",
   "execution_count": 12,
   "id": "ed9e7947-fb21-4f75-a404-88cbdd37a6e1",
   "metadata": {},
   "outputs": [],
   "source": [
    "# from sklearn.decomposition import PCA\n",
    "# X = df['key_feature'][4]\n",
    "# print((np.average(X)))\n",
    "# # X_pca = PCA(n_components=2).fit_transform(X)  # whiten=True 表示資料需要正規化\n",
    "# # print(X_pca)"
   ]
  },
  {
   "cell_type": "code",
   "execution_count": 76,
   "id": "d3ee9d83-ef65-4c3c-85df-a4dac294ea28",
   "metadata": {},
   "outputs": [
    {
     "name": "stdout",
     "output_type": "stream",
     "text": [
      "1313\n"
     ]
    }
   ],
   "source": [
    "user_dict = {}\n",
    "for i, value in enumerate(df['author']):\n",
    "    user_dict[value] = df['uid_int'][i]\n",
    "print(max(user_dict.values()))"
   ]
  },
  {
   "cell_type": "code",
   "execution_count": 77,
   "id": "396f3bc6-e5f7-4a4d-a46e-97f7e1023f14",
   "metadata": {},
   "outputs": [],
   "source": [
    "df['uid_int_small']=df['uid_int'].apply(lambda x: float(x/1313))"
   ]
  },
  {
   "cell_type": "code",
   "execution_count": 78,
   "id": "f1decdae-78e6-475e-92b4-7086db4fecdb",
   "metadata": {},
   "outputs": [
    {
     "data": {
      "text/html": [
       "<div>\n",
       "<style scoped>\n",
       "    .dataframe tbody tr th:only-of-type {\n",
       "        vertical-align: middle;\n",
       "    }\n",
       "\n",
       "    .dataframe tbody tr th {\n",
       "        vertical-align: top;\n",
       "    }\n",
       "\n",
       "    .dataframe thead th {\n",
       "        text-align: right;\n",
       "    }\n",
       "</style>\n",
       "<table border=\"1\" class=\"dataframe\">\n",
       "  <thead>\n",
       "    <tr style=\"text-align: right;\">\n",
       "      <th></th>\n",
       "      <th>author</th>\n",
       "      <th>hotel_name</th>\n",
       "      <th>keywords</th>\n",
       "      <th>uid_int</th>\n",
       "      <th>hotel_int</th>\n",
       "      <th>key_feature</th>\n",
       "      <th>uid_int_small</th>\n",
       "      <th>users_features</th>\n",
       "    </tr>\n",
       "  </thead>\n",
       "  <tbody>\n",
       "    <tr>\n",
       "      <th>5136</th>\n",
       "      <td>Roc4031</td>\n",
       "      <td>棲蘭山莊</td>\n",
       "      <td>[明體, 中心, 太平山, 建築, 車站, 親水, 公園, 傳藝]</td>\n",
       "      <td>115</td>\n",
       "      <td>408</td>\n",
       "      <td>11.328036</td>\n",
       "      <td>0.087586</td>\n",
       "      <td>(115, [115.0, 1.1097821457355166])</td>\n",
       "    </tr>\n",
       "    <tr>\n",
       "      <th>5137</th>\n",
       "      <td>Roc4031</td>\n",
       "      <td>太平山莊</td>\n",
       "      <td>[明體, 中心, 太平山, 建築, 車站, 親水, 公園, 傳藝]</td>\n",
       "      <td>115</td>\n",
       "      <td>186</td>\n",
       "      <td>11.328036</td>\n",
       "      <td>0.087586</td>\n",
       "      <td>(115, [115.0, 1.1097821457355166])</td>\n",
       "    </tr>\n",
       "    <tr>\n",
       "      <th>5138</th>\n",
       "      <td>Roc4031</td>\n",
       "      <td>幾度</td>\n",
       "      <td>[明體, 中心, 太平山, 建築, 車站, 親水, 公園, 傳藝]</td>\n",
       "      <td>115</td>\n",
       "      <td>273</td>\n",
       "      <td>11.328036</td>\n",
       "      <td>0.087586</td>\n",
       "      <td>(115, [115.0, 1.1097821457355166])</td>\n",
       "    </tr>\n",
       "    <tr>\n",
       "      <th>5139</th>\n",
       "      <td>qooqootin</td>\n",
       "      <td>童玩</td>\n",
       "      <td>[民宿, 夜景, 烏石港, 食材, 布袋, 戲館, 有名, 烤肉]</td>\n",
       "      <td>941</td>\n",
       "      <td>562</td>\n",
       "      <td>9.519897</td>\n",
       "      <td>0.716679</td>\n",
       "      <td>(941, [941.0, 0.914536189824139])</td>\n",
       "    </tr>\n",
       "    <tr>\n",
       "      <th>5140</th>\n",
       "      <td>qooqootin</td>\n",
       "      <td>途中</td>\n",
       "      <td>[民宿, 夜景, 烏石港, 食材, 布袋, 戲館, 有名, 烤肉]</td>\n",
       "      <td>941</td>\n",
       "      <td>700</td>\n",
       "      <td>9.519897</td>\n",
       "      <td>0.716679</td>\n",
       "      <td>(941, [941.0, 0.914536189824139])</td>\n",
       "    </tr>\n",
       "    <tr>\n",
       "      <th>5141</th>\n",
       "      <td>maximum621</td>\n",
       "      <td>微笑橘子民宿</td>\n",
       "      <td>[民宿, 橘子, 咖啡, 蘇澳港, 中心, 蜜餞, 羅東, 夜市]</td>\n",
       "      <td>766</td>\n",
       "      <td>279</td>\n",
       "      <td>9.528765</td>\n",
       "      <td>0.583397</td>\n",
       "      <td>(766, [766.0, 0.968416365901794])</td>\n",
       "    </tr>\n",
       "    <tr>\n",
       "      <th>5142</th>\n",
       "      <td>ailhsiao</td>\n",
       "      <td>童玩</td>\n",
       "      <td>[旅館, 時間, 山河, 路線, 星光, 大鎮, 床頭, 房間]</td>\n",
       "      <td>179</td>\n",
       "      <td>562</td>\n",
       "      <td>9.915859</td>\n",
       "      <td>0.136329</td>\n",
       "      <td>(179, [179.0, 0.9996022176055703])</td>\n",
       "    </tr>\n",
       "    <tr>\n",
       "      <th>5143</th>\n",
       "      <td>yating0801</td>\n",
       "      <td>近水</td>\n",
       "      <td>[很棒, 民宿, 熱心, 好險, 房間, 火車, 排隊, 行李]</td>\n",
       "      <td>1242</td>\n",
       "      <td>699</td>\n",
       "      <td>10.554739</td>\n",
       "      <td>0.945925</td>\n",
       "      <td>(1242, [1242.0, 1.0274532698997063])</td>\n",
       "    </tr>\n",
       "    <tr>\n",
       "      <th>5144</th>\n",
       "      <td>presotea</td>\n",
       "      <td>中冠礁溪大飯店</td>\n",
       "      <td>[民宿, 味道, 時機, 有名, 最旺, 玩樂, 景點, 逗趣]</td>\n",
       "      <td>932</td>\n",
       "      <td>17</td>\n",
       "      <td>7.464323</td>\n",
       "      <td>0.709825</td>\n",
       "      <td>(932, [932.0, 0.7302163060783641])</td>\n",
       "    </tr>\n",
       "    <tr>\n",
       "      <th>5145</th>\n",
       "      <td>skyc</td>\n",
       "      <td>太平山莊</td>\n",
       "      <td>[太平山, 時間, 植物, 風景, 電視, 山路, 山谷, 房間]</td>\n",
       "      <td>1048</td>\n",
       "      <td>186</td>\n",
       "      <td>9.553617</td>\n",
       "      <td>0.798172</td>\n",
       "      <td>(1048, [1048.0, 0.9425993458076847])</td>\n",
       "    </tr>\n",
       "  </tbody>\n",
       "</table>\n",
       "</div>"
      ],
      "text/plain": [
       "          author hotel_name                           keywords  uid_int  \\\n",
       "5136     Roc4031       棲蘭山莊  [明體, 中心, 太平山, 建築, 車站, 親水, 公園, 傳藝]      115   \n",
       "5137     Roc4031       太平山莊  [明體, 中心, 太平山, 建築, 車站, 親水, 公園, 傳藝]      115   \n",
       "5138     Roc4031         幾度  [明體, 中心, 太平山, 建築, 車站, 親水, 公園, 傳藝]      115   \n",
       "5139   qooqootin         童玩  [民宿, 夜景, 烏石港, 食材, 布袋, 戲館, 有名, 烤肉]      941   \n",
       "5140   qooqootin         途中  [民宿, 夜景, 烏石港, 食材, 布袋, 戲館, 有名, 烤肉]      941   \n",
       "5141  maximum621     微笑橘子民宿  [民宿, 橘子, 咖啡, 蘇澳港, 中心, 蜜餞, 羅東, 夜市]      766   \n",
       "5142    ailhsiao         童玩   [旅館, 時間, 山河, 路線, 星光, 大鎮, 床頭, 房間]      179   \n",
       "5143  yating0801         近水   [很棒, 民宿, 熱心, 好險, 房間, 火車, 排隊, 行李]     1242   \n",
       "5144    presotea    中冠礁溪大飯店   [民宿, 味道, 時機, 有名, 最旺, 玩樂, 景點, 逗趣]      932   \n",
       "5145        skyc       太平山莊  [太平山, 時間, 植物, 風景, 電視, 山路, 山谷, 房間]     1048   \n",
       "\n",
       "      hotel_int  key_feature  uid_int_small  \\\n",
       "5136        408    11.328036       0.087586   \n",
       "5137        186    11.328036       0.087586   \n",
       "5138        273    11.328036       0.087586   \n",
       "5139        562     9.519897       0.716679   \n",
       "5140        700     9.519897       0.716679   \n",
       "5141        279     9.528765       0.583397   \n",
       "5142        562     9.915859       0.136329   \n",
       "5143        699    10.554739       0.945925   \n",
       "5144         17     7.464323       0.709825   \n",
       "5145        186     9.553617       0.798172   \n",
       "\n",
       "                            users_features  \n",
       "5136    (115, [115.0, 1.1097821457355166])  \n",
       "5137    (115, [115.0, 1.1097821457355166])  \n",
       "5138    (115, [115.0, 1.1097821457355166])  \n",
       "5139     (941, [941.0, 0.914536189824139])  \n",
       "5140     (941, [941.0, 0.914536189824139])  \n",
       "5141     (766, [766.0, 0.968416365901794])  \n",
       "5142    (179, [179.0, 0.9996022176055703])  \n",
       "5143  (1242, [1242.0, 1.0274532698997063])  \n",
       "5144    (932, [932.0, 0.7302163060783641])  \n",
       "5145  (1048, [1048.0, 0.9425993458076847])  "
      ]
     },
     "execution_count": 78,
     "metadata": {},
     "output_type": "execute_result"
    }
   ],
   "source": [
    "df.tail(10)"
   ]
  },
  {
   "cell_type": "markdown",
   "id": "8395389a-bbe6-4b66-aea8-207a05e3daf6",
   "metadata": {},
   "source": [
    "設置用戶特徵"
   ]
  },
  {
   "cell_type": "code",
   "execution_count": 2,
   "id": "6e6789f7-5785-4eb5-9ad0-2f46ed68326a",
   "metadata": {},
   "outputs": [],
   "source": [
    "def create_features(dataframe, features_name, id_col_name):\n",
    "    features = dataframe[features_name].apply(\n",
    "        lambda x: ','.join(x.map(str)), axis=1)\n",
    "    features = features.str.split(',')\n",
    "    features1 = list(zip(dataframe[id_col_name], features))\n",
    "    features2 = features.apply(pd.Series).stack().reset_index(drop=True)\n",
    "    return features1, features2"
   ]
  },
  {
   "cell_type": "code",
   "execution_count": 3,
   "id": "e936cc95-44bd-4dfe-a749-ca85ed9d7922",
   "metadata": {},
   "outputs": [
    {
     "ename": "NameError",
     "evalue": "name 'df' is not defined",
     "output_type": "error",
     "traceback": [
      "\u001b[0;31m---------------------------------------------------------------------------\u001b[0m",
      "\u001b[0;31mNameError\u001b[0m                                 Traceback (most recent call last)",
      "\u001b[0;32m/tmp/ipykernel_56/2758334031.py\u001b[0m in \u001b[0;36m<module>\u001b[0;34m\u001b[0m\n\u001b[1;32m      2\u001b[0m \u001b[0musers_f\u001b[0m \u001b[0;34m=\u001b[0m \u001b[0;34m[\u001b[0m\u001b[0;34m'uid_int'\u001b[0m\u001b[0;34m,\u001b[0m\u001b[0;34m'key_feature'\u001b[0m\u001b[0;34m]\u001b[0m\u001b[0;34m\u001b[0m\u001b[0;34m\u001b[0m\u001b[0m\n\u001b[1;32m      3\u001b[0m \u001b[0;34m\u001b[0m\u001b[0m\n\u001b[0;32m----> 4\u001b[0;31m \u001b[0mdf\u001b[0m\u001b[0;34m[\u001b[0m\u001b[0;34m'users_features'\u001b[0m\u001b[0;34m]\u001b[0m\u001b[0;34m,\u001b[0m \u001b[0muser_feature_list\u001b[0m \u001b[0;34m=\u001b[0m \u001b[0mcreate_features\u001b[0m\u001b[0;34m(\u001b[0m\u001b[0mdf\u001b[0m\u001b[0;34m,\u001b[0m \u001b[0musers_f\u001b[0m\u001b[0;34m,\u001b[0m \u001b[0;34m'uid_int'\u001b[0m\u001b[0;34m)\u001b[0m\u001b[0;34m\u001b[0m\u001b[0;34m\u001b[0m\u001b[0m\n\u001b[0m\u001b[1;32m      5\u001b[0m \u001b[0mprint\u001b[0m\u001b[0;34m(\u001b[0m\u001b[0muser_feature_list\u001b[0m\u001b[0;34m)\u001b[0m\u001b[0;34m\u001b[0m\u001b[0;34m\u001b[0m\u001b[0m\n\u001b[1;32m      6\u001b[0m \u001b[0;31m# df.head(1)\u001b[0m\u001b[0;34m\u001b[0m\u001b[0;34m\u001b[0m\u001b[0m\n",
      "\u001b[0;31mNameError\u001b[0m: name 'df' is not defined"
     ]
    }
   ],
   "source": [
    "# 用户特征\n",
    "users_f = ['uid_int','key_feature']\n",
    "\n",
    "df['users_features'], user_feature_list = create_features(df, users_f, 'uid_int')\n",
    "print(user_feature_list)\n",
    "# df.head(1)"
   ]
  },
  {
   "cell_type": "code",
   "execution_count": 81,
   "id": "c6dc8f72-90d1-4918-9e11-78bb592e9c74",
   "metadata": {},
   "outputs": [
    {
     "name": "stdout",
     "output_type": "stream",
     "text": [
      "Requirement already satisfied: lightfm in /opt/conda/lib/python3.9/site-packages (1.16)\n",
      "Requirement already satisfied: numpy in /opt/conda/lib/python3.9/site-packages (from lightfm) (1.19.2)\n",
      "Requirement already satisfied: scipy>=0.17.0 in /opt/conda/lib/python3.9/site-packages (from lightfm) (1.7.1)\n",
      "Requirement already satisfied: requests in /opt/conda/lib/python3.9/site-packages (from lightfm) (2.26.0)\n",
      "Requirement already satisfied: scikit-learn in /opt/conda/lib/python3.9/site-packages (from lightfm) (1.0)\n",
      "Requirement already satisfied: idna<4,>=2.5 in /opt/conda/lib/python3.9/site-packages (from requests->lightfm) (3.1)\n",
      "Requirement already satisfied: certifi>=2017.4.17 in /opt/conda/lib/python3.9/site-packages (from requests->lightfm) (2021.10.8)\n",
      "Requirement already satisfied: charset-normalizer~=2.0.0 in /opt/conda/lib/python3.9/site-packages (from requests->lightfm) (2.0.0)\n",
      "Requirement already satisfied: urllib3<1.27,>=1.21.1 in /opt/conda/lib/python3.9/site-packages (from requests->lightfm) (1.26.7)\n",
      "Requirement already satisfied: threadpoolctl>=2.0.0 in /opt/conda/lib/python3.9/site-packages (from scikit-learn->lightfm) (3.0.0)\n",
      "Requirement already satisfied: joblib>=0.11 in /opt/conda/lib/python3.9/site-packages (from scikit-learn->lightfm) (1.1.0)\n"
     ]
    }
   ],
   "source": [
    "!pip install lightfm"
   ]
  },
  {
   "cell_type": "code",
   "execution_count": 82,
   "id": "8f73c393-153e-49b7-afc6-8f40ae54218a",
   "metadata": {},
   "outputs": [],
   "source": [
    "from sklearn.metrics.pairwise import cosine_similarity\n",
    "from lightfm import LightFM, cross_validation\n",
    "from scipy.sparse import csr_matrix, coo_matrix\n",
    "from lightfm.evaluation import auc_score \n",
    "from lightfm.data import Dataset\n",
    "import numpy as np"
   ]
  },
  {
   "cell_type": "code",
   "execution_count": 83,
   "id": "11318ddf-ed3b-415a-bbb8-4fcb7c79412e",
   "metadata": {},
   "outputs": [],
   "source": [
    "# 开始制作数据集\n",
    "make_dataset = Dataset()\n",
    "make_dataset.fit(df['uid_int'], df['hotel_int'], user_features=user_feature_list)"
   ]
  },
  {
   "cell_type": "code",
   "execution_count": 84,
   "id": "a234eb24-a64b-4b94-a480-5891d89a2df8",
   "metadata": {},
   "outputs": [
    {
     "data": {
      "text/plain": [
       "array([13.14716962, 12.53185683, 13.60134239, ..., 10.55473923,\n",
       "        7.46432326,  9.5536169 ])"
      ]
     },
     "execution_count": 84,
     "metadata": {},
     "output_type": "execute_result"
    }
   ],
   "source": [
    "# 构建打分矩阵\n",
    "interactions, weights = make_dataset.build_interactions(\n",
    "    list(zip(df['uid_int'], df['hotel_int'], df['key_feature'])))\n",
    "\n",
    "# 打印用户评分\n",
    "df['key_feature'].unique()"
   ]
  },
  {
   "cell_type": "markdown",
   "id": "bc05f94d-056a-4ae2-ba3d-b21eb09a4a8f",
   "metadata": {},
   "source": [
    "數據及劃分"
   ]
  },
  {
   "cell_type": "code",
   "execution_count": 85,
   "id": "ec301243-70a3-444d-a8c0-515211609fe5",
   "metadata": {},
   "outputs": [],
   "source": [
    "# model load\n",
    "model_test = LightFM(no_components=30, random_state=1)\n",
    "\n",
    "# 固定划分数据\n",
    "train, test = cross_validation.random_train_test_split(\n",
    "    interactions, test_percentage=0.3)"
   ]
  },
  {
   "cell_type": "markdown",
   "id": "3f2c57fa-2ada-46ee-9877-a3953af6608d",
   "metadata": {},
   "source": [
    "模型训练"
   ]
  },
  {
   "cell_type": "code",
   "execution_count": 86,
   "id": "c66c3833-7aef-4f23-bcf4-7c328e7dbe2c",
   "metadata": {},
   "outputs": [
    {
     "name": "stdout",
     "output_type": "stream",
     "text": [
      "CPU times: user 1.83 s, sys: 0 ns, total: 1.83 s\n",
      "Wall time: 1.83 s\n"
     ]
    },
    {
     "data": {
      "text/plain": [
       "<lightfm.lightfm.LightFM at 0x7fa7f79424c0>"
      ]
     },
     "execution_count": 86,
     "metadata": {},
     "output_type": "execute_result"
    }
   ],
   "source": [
    "# 用户特征处理\n",
    "users_features = make_dataset.build_user_features(df['users_features'])\n",
    "\n",
    "# model train\n",
    "%time model_test.fit(train, user_features=users_features, epochs=20, verbose=False)"
   ]
  },
  {
   "cell_type": "markdown",
   "id": "eda18f8a-976e-4577-bde9-2292f4b1b6c2",
   "metadata": {},
   "source": [
    "模型验证"
   ]
  },
  {
   "cell_type": "code",
   "execution_count": 87,
   "id": "3e2db98d-1f62-4cd5-ac05-2cddec0d63a0",
   "metadata": {},
   "outputs": [
    {
     "data": {
      "text/plain": [
       "0.7397442"
      ]
     },
     "execution_count": 87,
     "metadata": {},
     "output_type": "execute_result"
    }
   ],
   "source": [
    "# 开始验证模型\n",
    "auc = auc_score(model_test, test, user_features=users_features)\n",
    "\n",
    "# 计算 auc 的均值\n",
    "np.mean(auc)\n",
    "\n"
   ]
  },
  {
   "cell_type": "code",
   "execution_count": null,
   "id": "2b1add2b-f4ec-495f-9f02-519a0315d60a",
   "metadata": {},
   "outputs": [],
   "source": []
  },
  {
   "cell_type": "code",
   "execution_count": 88,
   "id": "0aa6c579-aec1-4306-b0fa-01a0eda98301",
   "metadata": {},
   "outputs": [
    {
     "name": "stdout",
     "output_type": "stream",
     "text": [
      "CPU times: user 3.07 s, sys: 6.26 ms, total: 3.07 s\n",
      "Wall time: 3.07 s\n"
     ]
    },
    {
     "data": {
      "text/plain": [
       "<lightfm.lightfm.LightFM at 0x7fa7f79423a0>"
      ]
     },
     "execution_count": 88,
     "metadata": {},
     "output_type": "execute_result"
    }
   ],
   "source": [
    "# 推荐模型训练\n",
    "model = LightFM(no_components=30, random_state=1)\n",
    "\n",
    "%time model.fit(interactions, sample_weight=weights, user_features=users_features, epochs=30,  verbose=False)"
   ]
  },
  {
   "cell_type": "code",
   "execution_count": 133,
   "id": "0c105b73-3897-451a-8461-3daeb13d4bb8",
   "metadata": {},
   "outputs": [],
   "source": [
    "# 按照用户名进行推荐\n",
    "Username = df['author'][163]\n",
    "\n",
    "# id 转换\n",
    "user_x = int(user_dict[Username])\n",
    "\n",
    "# 对电影进行去重\n",
    "# allready_knews = df.loc[train_df['uid_int'].isin([user_x])].drop_duplicates('hotel_int', keep='first', inplace=False)\n",
    "allready_knews = df.loc[df['uid_int'].isin([user_x])]"
   ]
  },
  {
   "cell_type": "code",
   "execution_count": 134,
   "id": "816dc07c-ac7e-4df4-8708-444abb9a4c23",
   "metadata": {},
   "outputs": [
    {
     "data": {
      "text/html": [
       "<div>\n",
       "<style scoped>\n",
       "    .dataframe tbody tr th:only-of-type {\n",
       "        vertical-align: middle;\n",
       "    }\n",
       "\n",
       "    .dataframe tbody tr th {\n",
       "        vertical-align: top;\n",
       "    }\n",
       "\n",
       "    .dataframe thead th {\n",
       "        text-align: right;\n",
       "    }\n",
       "</style>\n",
       "<table border=\"1\" class=\"dataframe\">\n",
       "  <thead>\n",
       "    <tr style=\"text-align: right;\">\n",
       "      <th></th>\n",
       "      <th>author</th>\n",
       "      <th>hotel_name</th>\n",
       "      <th>keywords</th>\n",
       "      <th>uid_int</th>\n",
       "      <th>hotel_int</th>\n",
       "      <th>key_feature</th>\n",
       "      <th>uid_int_small</th>\n",
       "      <th>users_features</th>\n",
       "    </tr>\n",
       "  </thead>\n",
       "  <tbody>\n",
       "    <tr>\n",
       "      <th>2</th>\n",
       "      <td>terry910134</td>\n",
       "      <td>麗翔酒店</td>\n",
       "      <td>[大廳, 泳池, 飯店, 鐵道, 客房, 南洋, 泡湯, 設施]</td>\n",
       "      <td>1120</td>\n",
       "      <td>789</td>\n",
       "      <td>12.531857</td>\n",
       "      <td>0.853008</td>\n",
       "      <td>(1120, [1120.0, 12.531856834044447])</td>\n",
       "    </tr>\n",
       "    <tr>\n",
       "      <th>21</th>\n",
       "      <td>sailly</td>\n",
       "      <td>和風時尚會館</td>\n",
       "      <td>[房間, 飯店, 浴缸, 網路, 空間, 家庭, 備品, 宜蘭]</td>\n",
       "      <td>986</td>\n",
       "      <td>130</td>\n",
       "      <td>13.864929</td>\n",
       "      <td>0.750952</td>\n",
       "      <td>(986, [986.0, 13.86492861044826])</td>\n",
       "    </tr>\n",
       "    <tr>\n",
       "      <th>22</th>\n",
       "      <td>sailly</td>\n",
       "      <td>頭城時尚會館</td>\n",
       "      <td>[房間, 飯店, 浴缸, 網路, 空間, 家庭, 備品, 宜蘭]</td>\n",
       "      <td>986</td>\n",
       "      <td>756</td>\n",
       "      <td>13.864929</td>\n",
       "      <td>0.750952</td>\n",
       "      <td>(986, [986.0, 13.86492861044826])</td>\n",
       "    </tr>\n",
       "    <tr>\n",
       "      <th>25</th>\n",
       "      <td>Furella</td>\n",
       "      <td>礁溪寒沐酒店</td>\n",
       "      <td>[日式, 冷盤區, 不錯, 海鮮, 酒店, 繁多, 品項, 台式]</td>\n",
       "      <td>42</td>\n",
       "      <td>532</td>\n",
       "      <td>9.590538</td>\n",
       "      <td>0.031988</td>\n",
       "      <td>(42, [42.0, 9.590537532923918])</td>\n",
       "    </tr>\n",
       "    <tr>\n",
       "      <th>26</th>\n",
       "      <td>Furella</td>\n",
       "      <td>寒沐酒店</td>\n",
       "      <td>[日式, 冷盤區, 不錯, 海鮮, 酒店, 繁多, 品項, 台式]</td>\n",
       "      <td>42</td>\n",
       "      <td>224</td>\n",
       "      <td>9.590538</td>\n",
       "      <td>0.031988</td>\n",
       "      <td>(42, [42.0, 9.590537532923918])</td>\n",
       "    </tr>\n",
       "    <tr>\n",
       "      <th>27</th>\n",
       "      <td>Furella</td>\n",
       "      <td>礁溪老爺</td>\n",
       "      <td>[日式, 冷盤區, 不錯, 海鮮, 酒店, 繁多, 品項, 台式]</td>\n",
       "      <td>42</td>\n",
       "      <td>535</td>\n",
       "      <td>9.590538</td>\n",
       "      <td>0.031988</td>\n",
       "      <td>(42, [42.0, 9.590537532923918])</td>\n",
       "    </tr>\n",
       "    <tr>\n",
       "      <th>30</th>\n",
       "      <td>Furella</td>\n",
       "      <td>眺望</td>\n",
       "      <td>[房型, 酒店, 時間, 浴池, 舒服, 側則, 印尼, 泰國]</td>\n",
       "      <td>42</td>\n",
       "      <td>528</td>\n",
       "      <td>10.899437</td>\n",
       "      <td>0.031988</td>\n",
       "      <td>(42, [42.0, 10.899437486368697])</td>\n",
       "    </tr>\n",
       "    <tr>\n",
       "      <th>34</th>\n",
       "      <td>gourmetism</td>\n",
       "      <td>阡陌五房</td>\n",
       "      <td>[民宿, 阡陌, 房間, 清水, 五房, 距離, 房型, 冰鎮]</td>\n",
       "      <td>496</td>\n",
       "      <td>734</td>\n",
       "      <td>9.279634</td>\n",
       "      <td>0.377761</td>\n",
       "      <td>(496, [496.0, 9.27963389341312])</td>\n",
       "    </tr>\n",
       "    <tr>\n",
       "      <th>36</th>\n",
       "      <td>kenny53</td>\n",
       "      <td>捷絲旅礁溪館</td>\n",
       "      <td>[客房, 空間, 傳統, 洋式, 東西, 晚餐, 文具店, 泡湯]</td>\n",
       "      <td>644</td>\n",
       "      <td>318</td>\n",
       "      <td>12.829105</td>\n",
       "      <td>0.490480</td>\n",
       "      <td>(644, [644.0, 12.82910468155751])</td>\n",
       "    </tr>\n",
       "    <tr>\n",
       "      <th>37</th>\n",
       "      <td>kenny53</td>\n",
       "      <td>捷絲旅</td>\n",
       "      <td>[客房, 空間, 傳統, 洋式, 東西, 晚餐, 文具店, 泡湯]</td>\n",
       "      <td>644</td>\n",
       "      <td>315</td>\n",
       "      <td>12.829105</td>\n",
       "      <td>0.490480</td>\n",
       "      <td>(644, [644.0, 12.82910468155751])</td>\n",
       "    </tr>\n",
       "  </tbody>\n",
       "</table>\n",
       "</div>"
      ],
      "text/plain": [
       "         author hotel_name                           keywords  uid_int  \\\n",
       "2   terry910134       麗翔酒店   [大廳, 泳池, 飯店, 鐵道, 客房, 南洋, 泡湯, 設施]     1120   \n",
       "21       sailly     和風時尚會館   [房間, 飯店, 浴缸, 網路, 空間, 家庭, 備品, 宜蘭]      986   \n",
       "22       sailly     頭城時尚會館   [房間, 飯店, 浴缸, 網路, 空間, 家庭, 備品, 宜蘭]      986   \n",
       "25      Furella     礁溪寒沐酒店  [日式, 冷盤區, 不錯, 海鮮, 酒店, 繁多, 品項, 台式]       42   \n",
       "26      Furella       寒沐酒店  [日式, 冷盤區, 不錯, 海鮮, 酒店, 繁多, 品項, 台式]       42   \n",
       "27      Furella       礁溪老爺  [日式, 冷盤區, 不錯, 海鮮, 酒店, 繁多, 品項, 台式]       42   \n",
       "30      Furella         眺望   [房型, 酒店, 時間, 浴池, 舒服, 側則, 印尼, 泰國]       42   \n",
       "34   gourmetism       阡陌五房   [民宿, 阡陌, 房間, 清水, 五房, 距離, 房型, 冰鎮]      496   \n",
       "36      kenny53     捷絲旅礁溪館  [客房, 空間, 傳統, 洋式, 東西, 晚餐, 文具店, 泡湯]      644   \n",
       "37      kenny53        捷絲旅  [客房, 空間, 傳統, 洋式, 東西, 晚餐, 文具店, 泡湯]      644   \n",
       "\n",
       "    hotel_int  key_feature  uid_int_small  \\\n",
       "2         789    12.531857       0.853008   \n",
       "21        130    13.864929       0.750952   \n",
       "22        756    13.864929       0.750952   \n",
       "25        532     9.590538       0.031988   \n",
       "26        224     9.590538       0.031988   \n",
       "27        535     9.590538       0.031988   \n",
       "30        528    10.899437       0.031988   \n",
       "34        734     9.279634       0.377761   \n",
       "36        318    12.829105       0.490480   \n",
       "37        315    12.829105       0.490480   \n",
       "\n",
       "                          users_features  \n",
       "2   (1120, [1120.0, 12.531856834044447])  \n",
       "21     (986, [986.0, 13.86492861044826])  \n",
       "22     (986, [986.0, 13.86492861044826])  \n",
       "25       (42, [42.0, 9.590537532923918])  \n",
       "26       (42, [42.0, 9.590537532923918])  \n",
       "27       (42, [42.0, 9.590537532923918])  \n",
       "30      (42, [42.0, 10.899437486368697])  \n",
       "34      (496, [496.0, 9.27963389341312])  \n",
       "36     (644, [644.0, 12.82910468155751])  \n",
       "37     (644, [644.0, 12.82910468155751])  "
      ]
     },
     "execution_count": 134,
     "metadata": {},
     "output_type": "execute_result"
    }
   ],
   "source": [
    "# 过滤看过的内容\n",
    "known_items = allready_knews['hotel_int'].tolist()\n",
    "df_use_for_prediction = df.loc[~df['hotel_int'].isin(known_items)].drop_duplicates(\n",
    "    'hotel_int', keep='first', inplace=False)\n",
    "\n",
    "# 挑选高质量的电影\n",
    "# Threshold = 0.6\n",
    "# df_use_for_prediction = df_use_for_prediction[df_use_for_prediction['key_feature'] > Threshold]\n",
    "# df.loc[df['hotel_int'].isin(known_items)]\n",
    "\n",
    "df_use_for_prediction.head(10)\n",
    "\n"
   ]
  },
  {
   "cell_type": "code",
   "execution_count": 104,
   "id": "7baa2a02-eeff-46a7-898f-735275f5ad7c",
   "metadata": {},
   "outputs": [
    {
     "data": {
      "text/html": [
       "<div>\n",
       "<style scoped>\n",
       "    .dataframe tbody tr th:only-of-type {\n",
       "        vertical-align: middle;\n",
       "    }\n",
       "\n",
       "    .dataframe tbody tr th {\n",
       "        vertical-align: top;\n",
       "    }\n",
       "\n",
       "    .dataframe thead th {\n",
       "        text-align: right;\n",
       "    }\n",
       "</style>\n",
       "<table border=\"1\" class=\"dataframe\">\n",
       "  <thead>\n",
       "    <tr style=\"text-align: right;\">\n",
       "      <th></th>\n",
       "      <th>author</th>\n",
       "      <th>hotel_name</th>\n",
       "      <th>keywords</th>\n",
       "      <th>uid_int</th>\n",
       "      <th>hotel_int</th>\n",
       "      <th>key_feature</th>\n",
       "      <th>uid_int_small</th>\n",
       "      <th>users_features</th>\n",
       "      <th>rec_score</th>\n",
       "    </tr>\n",
       "  </thead>\n",
       "  <tbody>\n",
       "    <tr>\n",
       "      <th>2</th>\n",
       "      <td>terry910134</td>\n",
       "      <td>麗翔酒店</td>\n",
       "      <td>[大廳, 泳池, 飯店, 鐵道, 客房, 南洋, 泡湯, 設施]</td>\n",
       "      <td>1120</td>\n",
       "      <td>789</td>\n",
       "      <td>12.531857</td>\n",
       "      <td>0.853008</td>\n",
       "      <td>(1120, [1120.0, 12.531856834044447])</td>\n",
       "      <td>2.149405</td>\n",
       "    </tr>\n",
       "    <tr>\n",
       "      <th>21</th>\n",
       "      <td>sailly</td>\n",
       "      <td>和風時尚會館</td>\n",
       "      <td>[房間, 飯店, 浴缸, 網路, 空間, 家庭, 備品, 宜蘭]</td>\n",
       "      <td>986</td>\n",
       "      <td>130</td>\n",
       "      <td>13.864929</td>\n",
       "      <td>0.750952</td>\n",
       "      <td>(986, [986.0, 13.86492861044826])</td>\n",
       "      <td>3.432283</td>\n",
       "    </tr>\n",
       "    <tr>\n",
       "      <th>22</th>\n",
       "      <td>sailly</td>\n",
       "      <td>頭城時尚會館</td>\n",
       "      <td>[房間, 飯店, 浴缸, 網路, 空間, 家庭, 備品, 宜蘭]</td>\n",
       "      <td>986</td>\n",
       "      <td>756</td>\n",
       "      <td>13.864929</td>\n",
       "      <td>0.750952</td>\n",
       "      <td>(986, [986.0, 13.86492861044826])</td>\n",
       "      <td>1.247633</td>\n",
       "    </tr>\n",
       "  </tbody>\n",
       "</table>\n",
       "</div>"
      ],
      "text/plain": [
       "         author hotel_name                          keywords  uid_int  \\\n",
       "2   terry910134       麗翔酒店  [大廳, 泳池, 飯店, 鐵道, 客房, 南洋, 泡湯, 設施]     1120   \n",
       "21       sailly     和風時尚會館  [房間, 飯店, 浴缸, 網路, 空間, 家庭, 備品, 宜蘭]      986   \n",
       "22       sailly     頭城時尚會館  [房間, 飯店, 浴缸, 網路, 空間, 家庭, 備品, 宜蘭]      986   \n",
       "\n",
       "    hotel_int  key_feature  uid_int_small  \\\n",
       "2         789    12.531857       0.853008   \n",
       "21        130    13.864929       0.750952   \n",
       "22        756    13.864929       0.750952   \n",
       "\n",
       "                          users_features  rec_score  \n",
       "2   (1120, [1120.0, 12.531856834044447])   2.149405  \n",
       "21     (986, [986.0, 13.86492861044826])   3.432283  \n",
       "22     (986, [986.0, 13.86492861044826])   1.247633  "
      ]
     },
     "execution_count": 104,
     "metadata": {},
     "output_type": "execute_result"
    }
   ],
   "source": [
    "# 对过滤之后的内容进行排序\n",
    "df_use_for_prediction['rec_score'] = model.predict(user_ids=user_x, item_ids=df_use_for_prediction['hotel_int'].tolist(),\n",
    "                                                   user_features=users_features)\n",
    "\n",
    "df_use_for_prediction.head(3)"
   ]
  },
  {
   "cell_type": "code",
   "execution_count": 105,
   "id": "be63dca7-2dac-485a-b8bf-265f6e106705",
   "metadata": {},
   "outputs": [
    {
     "data": {
      "text/plain": [
       "[32, 57, 53, 138, 27]"
      ]
     },
     "execution_count": 105,
     "metadata": {},
     "output_type": "execute_result"
    }
   ],
   "source": [
    "# 取 topk\n",
    "top_rec_item = 5\n",
    "rec_list_ = df_use_for_prediction.sort_values(by='rec_score', ascending=False)[:top_rec_item]['hotel_int']\n",
    "\n",
    "# 排序后的电影推荐列表\n",
    "rec_list_.tolist()"
   ]
  },
  {
   "cell_type": "code",
   "execution_count": 109,
   "id": "47af76f1-514b-435d-9977-ca90d0404d07",
   "metadata": {},
   "outputs": [
    {
     "data": {
      "text/html": [
       "<div>\n",
       "<style scoped>\n",
       "    .dataframe tbody tr th:only-of-type {\n",
       "        vertical-align: middle;\n",
       "    }\n",
       "\n",
       "    .dataframe tbody tr th {\n",
       "        vertical-align: top;\n",
       "    }\n",
       "\n",
       "    .dataframe thead th {\n",
       "        text-align: right;\n",
       "    }\n",
       "</style>\n",
       "<table border=\"1\" class=\"dataframe\">\n",
       "  <thead>\n",
       "    <tr style=\"text-align: right;\">\n",
       "      <th></th>\n",
       "      <th>author</th>\n",
       "      <th>hotel_name</th>\n",
       "      <th>keywords</th>\n",
       "    </tr>\n",
       "  </thead>\n",
       "  <tbody>\n",
       "    <tr>\n",
       "      <th>388</th>\n",
       "      <td>jlv1013</td>\n",
       "      <td>伯斯飯店</td>\n",
       "      <td>[根本, 浪費, 房間, 飯店, 狀況, 早餐, 夜市, 親和力]</td>\n",
       "    </tr>\n",
       "    <tr>\n",
       "      <th>552</th>\n",
       "      <td>sacy11230</td>\n",
       "      <td>單廊民宿</td>\n",
       "      <td>[民宿, 單廊, 時間, 早餐, 簡潔, 中意, 硬度, 機會]</td>\n",
       "    </tr>\n",
       "    <tr>\n",
       "      <th>2492</th>\n",
       "      <td>terry910134</td>\n",
       "      <td>丹迪旅店</td>\n",
       "      <td>[旅店, 客房, 浴缸, 飯店, 天津, 商旅, 台北市, 早餐]</td>\n",
       "    </tr>\n",
       "    <tr>\n",
       "      <th>4024</th>\n",
       "      <td>medea0926</td>\n",
       "      <td>信星旅館</td>\n",
       "      <td>[旅館, 早餐, 台灣, 韓國, 原本, 房間, 連假, 衣服]</td>\n",
       "    </tr>\n",
       "    <tr>\n",
       "      <th>4188</th>\n",
       "      <td>mikageyoru</td>\n",
       "      <td>九份愛琴海民宿</td>\n",
       "      <td>[民宿, 早餐, 愛琴海, 咖啡, 房間, 用餐, 粉紅色, 客人]</td>\n",
       "    </tr>\n",
       "  </tbody>\n",
       "</table>\n",
       "</div>"
      ],
      "text/plain": [
       "           author hotel_name                            keywords\n",
       "388       jlv1013       伯斯飯店   [根本, 浪費, 房間, 飯店, 狀況, 早餐, 夜市, 親和力]\n",
       "552     sacy11230       單廊民宿    [民宿, 單廊, 時間, 早餐, 簡潔, 中意, 硬度, 機會]\n",
       "2492  terry910134       丹迪旅店   [旅店, 客房, 浴缸, 飯店, 天津, 商旅, 台北市, 早餐]\n",
       "4024    medea0926       信星旅館    [旅館, 早餐, 台灣, 韓國, 原本, 房間, 連假, 衣服]\n",
       "4188   mikageyoru    九份愛琴海民宿  [民宿, 早餐, 愛琴海, 咖啡, 房間, 用餐, 粉紅色, 客人]"
      ]
     },
     "execution_count": 109,
     "metadata": {},
     "output_type": "execute_result"
    }
   ],
   "source": [
    "# 利用推荐列表找出电影信息\n",
    "# result = df.loc[df['hotle_int'].isin(rec_list_.tolist())][[\n",
    "#     'author', 'item_int', 'Movie_Score', 'Movie_Tags']].drop_duplicates('Movie_Name', keep='first', inplace=False)\n",
    "result = df.loc[df['hotel_int'].isin(rec_list_.tolist())][[\n",
    "    'author', 'hotel_name', 'keywords']].drop_duplicates('hotel_name', keep='first', inplace=False)\n",
    "# 推荐结果显示\n",
    "result.head(5)"
   ]
  },
  {
   "cell_type": "markdown",
   "id": "f8f00302-5143-423a-872d-29fc7d43af14",
   "metadata": {},
   "source": [
    "CSR_matrix 求餘旋相似度\n",
    "相关用户推荐\n",
    "\n",
    " 1.相关用户推荐，找到用户相关的用户，挖掘用户的潜在兴趣。 \\\n",
    " 2.增加平台和用户的交互。"
   ]
  },
  {
   "cell_type": "code",
   "execution_count": 111,
   "id": "563c045c-0201-4082-ba7b-5cc74a0352d8",
   "metadata": {},
   "outputs": [],
   "source": [
    "#  提取用户特征向量\n",
    "embedding_user, feature_user = csr_matrix(\n",
    "    model.user_embeddings), csr_matrix(users_features)\n",
    "\n",
    "# 用户特征提取\n",
    "user_inner_max = np.dot(feature_user, embedding_user)\n",
    "\n",
    "# 用户之间求得余弦相似度，容易因用户数量过大造成 MemoryError\n",
    "user_cosine_sim = cosine_similarity(user_inner_max)"
   ]
  },
  {
   "cell_type": "code",
   "execution_count": 112,
   "id": "80cb3d12-b23b-4ab9-b36e-65333e6a2808",
   "metadata": {},
   "outputs": [],
   "source": [
    "# 找到与查询电影最近余弦距离上的电影\n",
    "def sim_user_recommendations(user_name, cosine_sim, topk):\n",
    "    # 用户名转换唯一的 id\n",
    "    int_id = user_dict[user_name]\n",
    "    # 去除自身 id，建立倒排索引\n",
    "    sim_scores = sorted(\n",
    "        list(enumerate(cosine_sim[int_id])),\n",
    "        key=lambda x: x[1], reverse=True)[1:topk+1]\n",
    "    return sim_scores"
   ]
  },
  {
   "cell_type": "code",
   "execution_count": 113,
   "id": "f16d7b7b-1c37-475c-bf86-65cb26b0c245",
   "metadata": {},
   "outputs": [
    {
     "data": {
      "text/html": [
       "<div>\n",
       "<style scoped>\n",
       "    .dataframe tbody tr th:only-of-type {\n",
       "        vertical-align: middle;\n",
       "    }\n",
       "\n",
       "    .dataframe tbody tr th {\n",
       "        vertical-align: top;\n",
       "    }\n",
       "\n",
       "    .dataframe thead th {\n",
       "        text-align: right;\n",
       "    }\n",
       "</style>\n",
       "<table border=\"1\" class=\"dataframe\">\n",
       "  <thead>\n",
       "    <tr style=\"text-align: right;\">\n",
       "      <th></th>\n",
       "      <th>author</th>\n",
       "      <th>hotel_name</th>\n",
       "      <th>keywords</th>\n",
       "      <th>uid_int</th>\n",
       "      <th>hotel_int</th>\n",
       "      <th>key_feature</th>\n",
       "      <th>uid_int_small</th>\n",
       "      <th>users_features</th>\n",
       "    </tr>\n",
       "  </thead>\n",
       "  <tbody>\n",
       "    <tr>\n",
       "      <th>1</th>\n",
       "      <td>terry910134</td>\n",
       "      <td>麗翔</td>\n",
       "      <td>[大廳, 泳池, 飯店, 鐵道, 客房, 南洋, 泡湯, 設施]</td>\n",
       "      <td>1120</td>\n",
       "      <td>788</td>\n",
       "      <td>12.531857</td>\n",
       "      <td>0.853008</td>\n",
       "      <td>(1120, [1120.0, 12.531856834044447])</td>\n",
       "    </tr>\n",
       "  </tbody>\n",
       "</table>\n",
       "</div>"
      ],
      "text/plain": [
       "        author hotel_name                          keywords  uid_int  \\\n",
       "1  terry910134         麗翔  [大廳, 泳池, 飯店, 鐵道, 客房, 南洋, 泡湯, 設施]     1120   \n",
       "\n",
       "   hotel_int  key_feature  uid_int_small                        users_features  \n",
       "1        788    12.531857       0.853008  (1120, [1120.0, 12.531856834044447])  "
      ]
     },
     "execution_count": 113,
     "metadata": {},
     "output_type": "execute_result"
    }
   ],
   "source": [
    "# 直接使用 Username 作为当前用户名 假設\n",
    "Username = 'terry910134'\n",
    "df.loc[df['author'].isin([Username])].drop_duplicates(\n",
    "    'uid_int', keep='first', inplace=False).head()"
   ]
  },
  {
   "cell_type": "code",
   "execution_count": 128,
   "id": "2494e224-e8df-431d-a48a-b7f61a3c107a",
   "metadata": {},
   "outputs": [
    {
     "data": {
      "text/plain": [
       "[32, 796, 17, 575, 889, 1066, 70, 1018, 60, 1114]"
      ]
     },
     "execution_count": 128,
     "metadata": {},
     "output_type": "execute_result"
    }
   ],
   "source": [
    "topk = 10\n",
    "sim_user_list = [i[0] for i in sim_user_recommendations(Username, user_cosine_sim, topk)]\n",
    "sim_user_list"
   ]
  },
  {
   "cell_type": "code",
   "execution_count": 129,
   "id": "1bc61816-9d18-4598-86b9-0276cc071ce6",
   "metadata": {},
   "outputs": [
    {
     "data": {
      "text/html": [
       "<div>\n",
       "<style scoped>\n",
       "    .dataframe tbody tr th:only-of-type {\n",
       "        vertical-align: middle;\n",
       "    }\n",
       "\n",
       "    .dataframe tbody tr th {\n",
       "        vertical-align: top;\n",
       "    }\n",
       "\n",
       "    .dataframe thead th {\n",
       "        text-align: right;\n",
       "    }\n",
       "</style>\n",
       "<table border=\"1\" class=\"dataframe\">\n",
       "  <thead>\n",
       "    <tr style=\"text-align: right;\">\n",
       "      <th></th>\n",
       "      <th>author</th>\n",
       "      <th>hotel_name</th>\n",
       "    </tr>\n",
       "  </thead>\n",
       "  <tbody>\n",
       "    <tr>\n",
       "      <th>66</th>\n",
       "      <td>shangyikuo</td>\n",
       "      <td>兆品</td>\n",
       "    </tr>\n",
       "    <tr>\n",
       "      <th>67</th>\n",
       "      <td>shangyikuo</td>\n",
       "      <td>兆品酒店</td>\n",
       "    </tr>\n",
       "    <tr>\n",
       "      <th>262</th>\n",
       "      <td>shangyikuo</td>\n",
       "      <td>水舍</td>\n",
       "    </tr>\n",
       "    <tr>\n",
       "      <th>299</th>\n",
       "      <td>shangyikuo</td>\n",
       "      <td>東旅</td>\n",
       "    </tr>\n",
       "    <tr>\n",
       "      <th>385</th>\n",
       "      <td>DoubleLiNg</td>\n",
       "      <td>樂亞香草藝術旅店</td>\n",
       "    </tr>\n",
       "  </tbody>\n",
       "</table>\n",
       "</div>"
      ],
      "text/plain": [
       "         author hotel_name\n",
       "66   shangyikuo         兆品\n",
       "67   shangyikuo       兆品酒店\n",
       "262  shangyikuo         水舍\n",
       "299  shangyikuo         東旅\n",
       "385  DoubleLiNg   樂亞香草藝術旅店"
      ]
     },
     "execution_count": 129,
     "metadata": {},
     "output_type": "execute_result"
    }
   ],
   "source": [
    "sim_user_result = df.loc[df['uid_int'].isin(sim_user_list)].drop_duplicates('hotel_name', keep='first', inplace=False)\n",
    "# sim_user_result = df.loc[df['uid_int'].isin(sim_user_list)]\n",
    "\n",
    "# todo：可以添加优质用户筛选策略\n",
    "# Threshold \n",
    "# sim_user_result = sim_user_result[sim_user_result['User_level'] >= Threshold]\n",
    "\n",
    "# 显示相关用户结果\n",
    "sim_user_result.head()[['author','hotel_name']]"
   ]
  },
  {
   "cell_type": "code",
   "execution_count": 130,
   "id": "9af04102-fefd-4e21-9995-2d2807a61367",
   "metadata": {},
   "outputs": [
    {
     "data": {
      "text/html": [
       "<div>\n",
       "<style scoped>\n",
       "    .dataframe tbody tr th:only-of-type {\n",
       "        vertical-align: middle;\n",
       "    }\n",
       "\n",
       "    .dataframe tbody tr th {\n",
       "        vertical-align: top;\n",
       "    }\n",
       "\n",
       "    .dataframe thead th {\n",
       "        text-align: right;\n",
       "    }\n",
       "</style>\n",
       "<table border=\"1\" class=\"dataframe\">\n",
       "  <thead>\n",
       "    <tr style=\"text-align: right;\">\n",
       "      <th></th>\n",
       "      <th>author</th>\n",
       "      <th>hotel_name</th>\n",
       "      <th>keywords</th>\n",
       "      <th>uid_int</th>\n",
       "      <th>hotel_int</th>\n",
       "      <th>key_feature</th>\n",
       "      <th>uid_int_small</th>\n",
       "      <th>users_features</th>\n",
       "    </tr>\n",
       "  </thead>\n",
       "  <tbody>\n",
       "    <tr>\n",
       "      <th>1224</th>\n",
       "      <td>onepercent</td>\n",
       "      <td>布諾斯莊園</td>\n",
       "      <td>[民宿, 浴室, 主人, 落地窗, 感覺, 咖啡, 家庭, 夜市]</td>\n",
       "      <td>889</td>\n",
       "      <td>257</td>\n",
       "      <td>14.050489</td>\n",
       "      <td>0.677075</td>\n",
       "      <td>(889, [889.0, 14.050488681561546])</td>\n",
       "    </tr>\n",
       "  </tbody>\n",
       "</table>\n",
       "</div>"
      ],
      "text/plain": [
       "          author hotel_name                           keywords  uid_int  \\\n",
       "1224  onepercent      布諾斯莊園  [民宿, 浴室, 主人, 落地窗, 感覺, 咖啡, 家庭, 夜市]      889   \n",
       "\n",
       "      hotel_int  key_feature  uid_int_small  \\\n",
       "1224        257    14.050489       0.677075   \n",
       "\n",
       "                          users_features  \n",
       "1224  (889, [889.0, 14.050488681561546])  "
      ]
     },
     "execution_count": 130,
     "metadata": {},
     "output_type": "execute_result"
    }
   ],
   "source": [
    "df.loc[df['uid_int']==889]"
   ]
  },
  {
   "cell_type": "code",
   "execution_count": null,
   "id": "055c8e0f-99eb-4d04-aee6-eeb6f460017c",
   "metadata": {},
   "outputs": [],
   "source": []
  },
  {
   "cell_type": "code",
   "execution_count": null,
   "id": "9ccd34db-1cfd-4feb-a699-fb324bf30f3b",
   "metadata": {},
   "outputs": [],
   "source": []
  },
  {
   "cell_type": "code",
   "execution_count": null,
   "id": "f8a0d5d1-0a32-4e12-a596-4f867df82edc",
   "metadata": {},
   "outputs": [],
   "source": []
  },
  {
   "cell_type": "code",
   "execution_count": null,
   "id": "a0721fb6-f978-4356-acfc-fbc62ef20d98",
   "metadata": {},
   "outputs": [],
   "source": []
  },
  {
   "cell_type": "code",
   "execution_count": null,
   "id": "3a8265fc-ab62-4961-9177-8c36da3f9941",
   "metadata": {},
   "outputs": [],
   "source": [
    "# num_train = int(len(user_ids) * 0.8)\n",
    "# train_user_ids = user_ids[:num_train]\n",
    "# train_hotel_ids = hotel_ids[:num_train]\n",
    "# train_features = df.key_feature.values[:num_train]\n",
    "\n",
    "# val_user_ids = user_ids[num_train:]\n",
    "# train_hotel_ids = hotel_ids[num_train:]\n",
    "# val_ratings = df.key_feature[num_train:]"
   ]
  },
  {
   "cell_type": "code",
   "execution_count": null,
   "id": "95c74c95-d905-480f-b1c3-8344191f0636",
   "metadata": {},
   "outputs": [],
   "source": [
    "# print(type(train_user_ids))\n",
    "# print(val_ratings.shape)"
   ]
  },
  {
   "cell_type": "code",
   "execution_count": null,
   "id": "1e51419b-ecc8-4a9d-84da-f8a1a80d4b89",
   "metadata": {},
   "outputs": [],
   "source": [
    "# # set up user-hotel matrix\n",
    "# num_users = user_ids.max() + 1\n",
    "# num_hotels = hotel_ids.max() + 1\n",
    "# user2hotel = np.zeros([num_users, num_hotels])\n",
    "# user2hotel[train_user_ids, train_hotel_ids] = train_features\n",
    "\n",
    "# # user2hotel.shape"
   ]
  },
  {
   "cell_type": "code",
   "execution_count": null,
   "id": "cc69782f-7b6b-444d-8ac9-ade8d8812902",
   "metadata": {},
   "outputs": [],
   "source": [
    "def create_features(dataframe, features_name, id_col_name):\n",
    "    features = dataframe[features_name].apply(\n",
    "        lambda x: ','.join(x.map(str)), axis=1)\n",
    "    features = features.str.split(',')\n",
    "    features1 = list(zip(dataframe[id_col_name], features))\n",
    "    features2 = features.apply(pd.Series).stack().reset_index(drop=True)\n",
    "    return features1, features2"
   ]
  },
  {
   "cell_type": "code",
   "execution_count": null,
   "id": "5a406603-a007-4de6-a6f9-b2aebf74d49a",
   "metadata": {},
   "outputs": [],
   "source": [
    "# # 电影特征\n",
    "# items_f = ['Movie_Score', 'Review_Count','item_int' ]\n",
    "\n",
    "# 用户特征\n",
    "users_f = ['uid_int','keywords']\n",
    "\n",
    "# df['items_features'], item_feature_list = create_features(\n",
    "#     df, items_f, 'item_int')\n",
    "\n",
    "df['users_features'], user_feature_list = create_features(\n",
    "    df, users_f, 'uid_int')\n",
    "\n",
    "\n",
    "df.head(1)"
   ]
  },
  {
   "cell_type": "code",
   "execution_count": null,
   "id": "623b22b1-ed7d-4aa0-97db-f92d8cfb8d97",
   "metadata": {},
   "outputs": [],
   "source": []
  },
  {
   "cell_type": "code",
   "execution_count": null,
   "id": "aad248f8-201e-4ac8-8fec-490c6fb853cd",
   "metadata": {},
   "outputs": [],
   "source": []
  },
  {
   "cell_type": "code",
   "execution_count": null,
   "id": "2c37f3be-c4a0-4b65-8756-ddf9bd9f5295",
   "metadata": {},
   "outputs": [],
   "source": []
  },
  {
   "cell_type": "code",
   "execution_count": null,
   "id": "e9874b47-38f9-4b1b-b7ac-8ff0b2a70484",
   "metadata": {},
   "outputs": [],
   "source": []
  },
  {
   "cell_type": "code",
   "execution_count": null,
   "id": "a5e221ec-3de0-4f3d-9824-8b02e7715ef6",
   "metadata": {},
   "outputs": [],
   "source": []
  }
 ],
 "metadata": {
  "kernelspec": {
   "display_name": "Python 3 (ipykernel)",
   "language": "python",
   "name": "python3"
  },
  "language_info": {
   "codemirror_mode": {
    "name": "ipython",
    "version": 3
   },
   "file_extension": ".py",
   "mimetype": "text/x-python",
   "name": "python",
   "nbconvert_exporter": "python",
   "pygments_lexer": "ipython3",
   "version": "3.9.7"
  }
 },
 "nbformat": 4,
 "nbformat_minor": 5
}
