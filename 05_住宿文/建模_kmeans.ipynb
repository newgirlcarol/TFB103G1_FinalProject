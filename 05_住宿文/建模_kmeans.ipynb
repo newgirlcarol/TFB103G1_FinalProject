{
 "cells": [
  {
   "cell_type": "code",
   "execution_count": 1,
   "id": "a6cd1cfc-9939-4d4c-a712-f0a695979001",
   "metadata": {
    "scrolled": true,
    "tags": []
   },
   "outputs": [],
   "source": [
    "import numpy as np\n",
    "import pandas as pd\n",
    "from gensim.models import Word2Vec\n",
    "import gensim\n",
    "from gensim.models.word2vec import LineSentence"
   ]
  },
  {
   "cell_type": "code",
   "execution_count": 16,
   "id": "24bb08c7-92fc-4aa3-a03e-c28ca7b07a2f",
   "metadata": {},
   "outputs": [
    {
     "data": {
      "text/html": [
       "<div>\n",
       "<style scoped>\n",
       "    .dataframe tbody tr th:only-of-type {\n",
       "        vertical-align: middle;\n",
       "    }\n",
       "\n",
       "    .dataframe tbody tr th {\n",
       "        vertical-align: top;\n",
       "    }\n",
       "\n",
       "    .dataframe thead th {\n",
       "        text-align: right;\n",
       "    }\n",
       "</style>\n",
       "<table border=\"1\" class=\"dataframe\">\n",
       "  <thead>\n",
       "    <tr style=\"text-align: right;\">\n",
       "      <th></th>\n",
       "      <th>author</th>\n",
       "      <th>article</th>\n",
       "      <th>keywords</th>\n",
       "    </tr>\n",
       "  </thead>\n",
       "  <tbody>\n",
       "    <tr>\n",
       "      <th>0</th>\n",
       "      <td>*GENISOFI*</td>\n",
       "      <td>因參加|會員活動|贏得升等套房住宿獎勵卷|適用於|系列所有飯店|艾美酒店|喜來登|福朋四季等...</td>\n",
       "      <td>['官網', '飯店', '客房', '奇景', '含稅', '過會員', '早餐', '方...</td>\n",
       "    </tr>\n",
       "  </tbody>\n",
       "</table>\n",
       "</div>"
      ],
      "text/plain": [
       "       author                                            article  \\\n",
       "0  *GENISOFI*  因參加|會員活動|贏得升等套房住宿獎勵卷|適用於|系列所有飯店|艾美酒店|喜來登|福朋四季等...   \n",
       "\n",
       "                                            keywords  \n",
       "0  ['官網', '飯店', '客房', '奇景', '含稅', '過會員', '早餐', '方...  "
      ]
     },
     "execution_count": 16,
     "metadata": {},
     "output_type": "execute_result"
    }
   ],
   "source": [
    "import pandas as pd\n",
    "df = pd.read_csv('./final_groupby_15.csv')\n",
    "df.head(1)"
   ]
  },
  {
   "cell_type": "code",
   "execution_count": null,
   "id": "0a152430-f037-4ad6-a0f4-7ecd757ac5a4",
   "metadata": {
    "scrolled": true,
    "tags": []
   },
   "outputs": [],
   "source": [
    "# df = df.drop_duplicates(subset='content', keep='first', ignore_index=True)\n",
    "# df.shape"
   ]
  },
  {
   "cell_type": "code",
   "execution_count": null,
   "id": "99890fd0-c9f6-4161-b679-90dc5fa5df06",
   "metadata": {},
   "outputs": [],
   "source": [
    "# df = df.drop_duplicates(subset='aut_id', keep='first', ignore_index=True)\n",
    "# df.shape"
   ]
  },
  {
   "cell_type": "code",
   "execution_count": null,
   "id": "75eb2805-6cf4-4749-a937-783aa230e20a",
   "metadata": {},
   "outputs": [],
   "source": [
    "# df['keywords']=df['keywords'].apply(lambda x: x.replace('[','').replace(']','').replace(\"'\",\"\"))\n",
    "# df"
   ]
  },
  {
   "cell_type": "code",
   "execution_count": 17,
   "id": "24855059-c6eb-48e8-989f-9c99801e02e1",
   "metadata": {},
   "outputs": [
    {
     "name": "stdout",
     "output_type": "stream",
     "text": [
      "<class 'list'>\n"
     ]
    }
   ],
   "source": [
    "df['keywords']=df['keywords'].apply(lambda x:eval(x))\n",
    "print(type(df.iloc[0,2]))"
   ]
  },
  {
   "cell_type": "code",
   "execution_count": 18,
   "id": "ac1ed3e3-429a-4015-b7f2-f1edf6729ef2",
   "metadata": {
    "scrolled": true,
    "tags": []
   },
   "outputs": [
    {
     "name": "stdout",
     "output_type": "stream",
     "text": [
      "[['官網', '飯店', '客房', '奇景', '含稅', '過會員', '早餐', '方式', '有意者', '事項', '信討論', '報價', '會員', '訂房', '網路'], ['景色', '公園', '國光', '歸途', '媽祖廟', '建築', '親水', '觀光', '藝術品', '熱水', '年老', '火車', '腳踏車', '門票', '廟口'], ['空間', '朋友', '花草', '旅店', '房間', '名產', '友善', '旅人', '經驗', '親切', '不錯', '人員', '文章', '雙人', '方便'], ['壽司', '美食', '日本料理', '食記', '空間', '感覺', '雲品', '早餐', '舒適', '酒店', '飯店', '粉色', '游泳池', '聚餐', '中心'], ['五房', '阡陌', '房間', '民宿', '大片', '所欲', '草原', '烤肉', '空調', '夜市', '價錢', '簡單', '壯圍', '天堂', '房子']]\n"
     ]
    }
   ],
   "source": [
    "datas =[words for words in df['keywords']]\n",
    "print(datas[:5])"
   ]
  },
  {
   "cell_type": "code",
   "execution_count": 19,
   "id": "8fbfb781-3e0f-47b0-9a8d-cf65ea018f88",
   "metadata": {},
   "outputs": [],
   "source": [
    "#訓練\n",
    "model = Word2Vec(datas, vector_size=100, min_count=1, workers=7, window =3, sg = 1)\n",
    "# model.save('w2v_model_tpk30')"
   ]
  },
  {
   "cell_type": "markdown",
   "id": "1b0fc6ec-cd0b-44f5-a68e-c42bd920c530",
   "metadata": {},
   "source": [
    "編寫文本轉向量方法，將一段文字的向量用各詞向量平均值來表示，爲50維向量"
   ]
  },
  {
   "cell_type": "code",
   "execution_count": 20,
   "id": "efb83a61-ad9a-4707-809c-9c8b50e08ac0",
   "metadata": {},
   "outputs": [],
   "source": [
    "def buildWordVector(article_w2v, text, size):\n",
    "    vec = np.zeros(size).reshape((1, size))\n",
    "    count = 0.\n",
    "    for word in text:\n",
    "        #print word\n",
    "        try:\n",
    "            vec += article_w2v.wv[word].reshape((1, size))\n",
    "            count += 1.\n",
    "        except KeyError:\n",
    "            print (word)\n",
    "            continue\n",
    "    if count != 0:\n",
    "        vec /= count\n",
    "    return vec"
   ]
  },
  {
   "cell_type": "code",
   "execution_count": null,
   "id": "10cbebe0-3d39-479f-b5df-c6284054c0ed",
   "metadata": {},
   "outputs": [],
   "source": [
    "print(type(df['keywords'][0]))"
   ]
  },
  {
   "cell_type": "code",
   "execution_count": 21,
   "id": "b07bf160-8325-4992-9f5e-25050c7a96ea",
   "metadata": {},
   "outputs": [
    {
     "name": "stdout",
     "output_type": "stream",
     "text": [
      "[[ 3.64452212e-02  1.79769702e-01 -1.81099161e-02  1.55391887e-03\n",
      "   8.67592494e-03 -2.40652952e-01  1.93229651e-01  4.21717838e-01\n",
      "  -2.39224028e-01 -1.44876246e-01  3.78346525e-02 -2.29510455e-01\n",
      "   3.60681386e-02  1.65154783e-01  3.44490213e-02  2.79001892e-05\n",
      "   1.45967233e-01 -1.69809258e-01 -8.87424602e-02 -4.20734928e-01\n",
      "   1.01422986e-01  3.38880187e-02  1.91568219e-01 -1.42997153e-01\n",
      "  -1.41156806e-02  3.76033685e-03 -1.38579800e-01 -1.99906008e-01\n",
      "  -1.73670367e-01  2.97250775e-02  1.91595544e-01 -7.66008672e-02\n",
      "   1.88476428e-01 -3.89283506e-01 -3.29606765e-02  2.16111155e-01\n",
      "  -1.95009321e-02 -1.24283970e-01 -1.09784425e-01 -2.35116647e-01\n",
      "   6.23550165e-02 -1.20353663e-01  5.28511483e-02  1.05400214e-02\n",
      "   2.23967215e-01 -3.63878004e-02 -2.26527766e-01 -9.01073895e-02\n",
      "   8.38252623e-02  9.26600937e-02  9.16723993e-02 -9.91507947e-02\n",
      "  -1.07916440e-01  3.89211502e-02 -5.58384611e-02  8.20287595e-02\n",
      "   1.50251973e-01  7.83776406e-02 -1.71924732e-01  6.45489519e-02\n",
      "   5.31292445e-02  2.40332764e-02  7.61137483e-02 -7.08079357e-03\n",
      "  -2.05221381e-01  2.03956408e-01  5.04455796e-02  2.39730688e-01\n",
      "  -3.31732895e-01  2.16304342e-01 -1.46784532e-01  9.71553517e-02\n",
      "   1.02720745e-01 -7.17579181e-02  2.39273732e-01 -1.91723649e-02\n",
      "   3.54031387e-02  8.73009733e-02 -2.45665499e-01  7.11010390e-02\n",
      "  -1.55970317e-01  6.73951882e-03 -1.81117643e-01  2.49371280e-01\n",
      "  -1.15769421e-01 -1.96978149e-02  1.23400989e-01  2.13201573e-01\n",
      "   1.70450785e-01  1.30868151e-02  2.55170738e-01  5.46021731e-02\n",
      "   8.79220470e-03 -4.23689150e-02  2.02100523e-01  1.02020713e-01\n",
      "   6.48762944e-02 -1.02980040e-01  7.63063788e-02  7.12667618e-02]]\n"
     ]
    }
   ],
   "source": [
    "result = buildWordVector(model, df.loc[0]['keywords'] , 100)\n",
    "print(result)\n",
    "for idx in range (1, len(df)):\n",
    "    result = np.concatenate((result, buildWordVector(model, df.loc[idx]['keywords'] , 100)), axis=0)"
   ]
  },
  {
   "cell_type": "code",
   "execution_count": 22,
   "id": "7e2bb85b-b1d9-45cc-926e-6cce08d6e901",
   "metadata": {},
   "outputs": [],
   "source": [
    "#把series 轉換成dataframe格式，並且將五十維的特徵都賦值\n",
    "# vectors = pd.DataFrame(result, columns = [\"x1\",\"x2\", \"x3\", \"x4\", \"x5\", \"x6\", \"x7\", \"x8\", \"x9\", \"x10\",\"x11\", \"x12\", \"x13\", \"x14\", \"x15\", \"x16\", \"x17\", \"x18\", \"x19\", \"x20\", \"x21\", \"x22\", \"x23\", \"x24\", \"x25\", \"x26\", \"x27\", \"x28\", \"x29\", \"x30\", \"x31\", \"x32\", \"x33\", \"x34\", \"x35\", \"x36\", \"x37\", \"x38\" ,\"x39\", \"x40\", \"x41\", \"x42\", \"x43\" ,\"x44\", \"x45\", \"x46\" ,\"x47\", \"x48\", \"x49\", \"x50\"])\n",
    "# vectors.head(1)\n",
    "#把series 轉換成dataframe格式，並且將三十維的特徵都賦值\n",
    "# vectors = pd.DataFrame(result, columns = [\"x1\",\"x2\", \"x3\", \"x4\", \"x5\", \"x6\", \"x7\", \"x8\", \"x9\", \"x10\",\"x11\", \"x12\", \"x13\", \"x14\", \"x15\", \"x16\", \"x17\", \"x18\", \"x19\", \"x20\", \"x21\", \"x22\", \"x23\", \"x24\", \"x25\", \"x26\", \"x27\", \"x28\", \"x29\", \"x30\"])\n",
    "# vectors.head(1)\n",
    "vectors = pd.DataFrame(result, columns = [\"x1\",\"x2\", \"x3\", \"x4\", \"x5\", \"x6\", \"x7\", \"x8\", \"x9\", \"x10\",\"x11\", \"x12\", \"x13\", \"x14\", \"x15\", \"x16\", \"x17\", \"x18\", \"x19\", \"x20\", \"x21\", \"x22\", \"x23\", \"x24\", \"x25\", \"x26\", \"x27\", \"x28\", \"x29\", \"x30\", \"x31\", \"x32\", \"x33\", \"x34\", \"x35\", \"x36\", \"x37\", \"x38\" ,\"x39\", \"x40\", \"x41\", \"x42\", \"x43\" ,\"x44\", \"x45\", \"x46\" ,\"x47\", \"x48\", \"x49\", \"x50\",\n",
    "                                         \"x51\",\"x52\", \"x53\", \"x54\", \"x55\", \"x56\", \"x57\", \"x58\", \"x59\", \"x60\",\"x61\", \"x62\", \"x63\", \"x64\", \"x65\", \"x66\", \"x67\", \"x68\", \"x69\", \"x70\", \"x71\", \"x72\", \"x73\", \"x74\", \"x75\", \"x76\", \"x77\", \"x78\", \"x79\", \"x80\", \"x81\", \"x82\", \"x83\", \"x84\", \"x85\", \"x86\", \"x87\", \"x88\" ,\"x89\", \"x90\", \"x91\", \"x92\", \"x93\" ,\"x94\", \"x95\", \"x96\" ,\"x97\", \"x98\", \"x99\", \"x100\"])\n",
    "# vectors.head(1)"
   ]
  },
  {
   "cell_type": "code",
   "execution_count": 23,
   "id": "506c2111-945e-4638-bc76-702247f6c1f4",
   "metadata": {},
   "outputs": [
    {
     "data": {
      "text/html": [
       "<div>\n",
       "<style scoped>\n",
       "    .dataframe tbody tr th:only-of-type {\n",
       "        vertical-align: middle;\n",
       "    }\n",
       "\n",
       "    .dataframe tbody tr th {\n",
       "        vertical-align: top;\n",
       "    }\n",
       "\n",
       "    .dataframe thead th {\n",
       "        text-align: right;\n",
       "    }\n",
       "</style>\n",
       "<table border=\"1\" class=\"dataframe\">\n",
       "  <thead>\n",
       "    <tr style=\"text-align: right;\">\n",
       "      <th></th>\n",
       "      <th>author</th>\n",
       "      <th>article</th>\n",
       "      <th>keywords</th>\n",
       "      <th>x1</th>\n",
       "      <th>x2</th>\n",
       "      <th>x3</th>\n",
       "      <th>x4</th>\n",
       "      <th>x5</th>\n",
       "      <th>x6</th>\n",
       "      <th>x7</th>\n",
       "      <th>...</th>\n",
       "      <th>x91</th>\n",
       "      <th>x92</th>\n",
       "      <th>x93</th>\n",
       "      <th>x94</th>\n",
       "      <th>x95</th>\n",
       "      <th>x96</th>\n",
       "      <th>x97</th>\n",
       "      <th>x98</th>\n",
       "      <th>x99</th>\n",
       "      <th>x100</th>\n",
       "    </tr>\n",
       "  </thead>\n",
       "  <tbody>\n",
       "    <tr>\n",
       "      <th>0</th>\n",
       "      <td>*GENISOFI*</td>\n",
       "      <td>因參加|會員活動|贏得升等套房住宿獎勵卷|適用於|系列所有飯店|艾美酒店|喜來登|福朋四季等...</td>\n",
       "      <td>[官網, 飯店, 客房, 奇景, 含稅, 過會員, 早餐, 方式, 有意者, 事項, 信討論...</td>\n",
       "      <td>0.036445</td>\n",
       "      <td>0.17977</td>\n",
       "      <td>-0.01811</td>\n",
       "      <td>0.001554</td>\n",
       "      <td>0.008676</td>\n",
       "      <td>-0.240653</td>\n",
       "      <td>0.19323</td>\n",
       "      <td>...</td>\n",
       "      <td>0.255171</td>\n",
       "      <td>0.054602</td>\n",
       "      <td>0.008792</td>\n",
       "      <td>-0.042369</td>\n",
       "      <td>0.202101</td>\n",
       "      <td>0.102021</td>\n",
       "      <td>0.064876</td>\n",
       "      <td>-0.10298</td>\n",
       "      <td>0.076306</td>\n",
       "      <td>0.071267</td>\n",
       "    </tr>\n",
       "  </tbody>\n",
       "</table>\n",
       "<p>1 rows × 103 columns</p>\n",
       "</div>"
      ],
      "text/plain": [
       "       author                                            article  \\\n",
       "0  *GENISOFI*  因參加|會員活動|贏得升等套房住宿獎勵卷|適用於|系列所有飯店|艾美酒店|喜來登|福朋四季等...   \n",
       "\n",
       "                                            keywords        x1       x2  \\\n",
       "0  [官網, 飯店, 客房, 奇景, 含稅, 過會員, 早餐, 方式, 有意者, 事項, 信討論...  0.036445  0.17977   \n",
       "\n",
       "        x3        x4        x5        x6       x7  ...       x91       x92  \\\n",
       "0 -0.01811  0.001554  0.008676 -0.240653  0.19323  ...  0.255171  0.054602   \n",
       "\n",
       "        x93       x94       x95       x96       x97      x98       x99  \\\n",
       "0  0.008792 -0.042369  0.202101  0.102021  0.064876 -0.10298  0.076306   \n",
       "\n",
       "       x100  \n",
       "0  0.071267  \n",
       "\n",
       "[1 rows x 103 columns]"
      ]
     },
     "execution_count": 23,
     "metadata": {},
     "output_type": "execute_result"
    }
   ],
   "source": [
    "#合併dataframe\n",
    "data = pd.concat([df, vectors], axis = 1)\n",
    "data.head(1)\n",
    "# print(data.shape)"
   ]
  },
  {
   "cell_type": "code",
   "execution_count": 24,
   "id": "506e7883-763f-466c-918e-e27b0002523b",
   "metadata": {},
   "outputs": [],
   "source": [
    "import matplotlib.pyplot as plt\n",
    "from sklearn.cluster import KMeans"
   ]
  },
  {
   "cell_type": "code",
   "execution_count": 25,
   "id": "325dd570-1889-486c-9bc2-d6089983644d",
   "metadata": {},
   "outputs": [],
   "source": [
    "dt= data.drop(['article', 'keywords', 'author'],axis=1)"
   ]
  },
  {
   "cell_type": "code",
   "execution_count": null,
   "id": "70884f26-0062-4a26-9e0b-6c21bdfab512",
   "metadata": {},
   "outputs": [],
   "source": [
    "import numpy as np\n",
    "import pandas as pd\n",
    "from collections import Counter\n",
    "\n",
    "from sklearn.cluster import KMeans\n",
    "from sklearn import metrics, manifold\n",
    "from sklearn.decomposition import PCA\n",
    "\n",
    "import matplotlib.pyplot as plt\n",
    "plt.rcParams['font.sans-serif'] = ['Source Han Sans TW']\n",
    "plt.rc('legend', fontsize=16)\n",
    "\n",
    "import random"
   ]
  },
  {
   "cell_type": "code",
   "execution_count": null,
   "id": "bcbb0120-9bfc-4146-adbf-e22e93a7728a",
   "metadata": {},
   "outputs": [],
   "source": [
    "nd_data = dt.to_numpy()\n",
    "# 降維\n",
    "# pca_data = PCA(n_components=2).fit_transform(nd_data)\n",
    "reduced_data  = manifold.TSNE(n_components=2,init=\"pca\",random_state=0).fit_transform(nd_data)"
   ]
  },
  {
   "cell_type": "code",
   "execution_count": null,
   "id": "c279957c-bf6d-4945-8e96-43cd7d351b78",
   "metadata": {},
   "outputs": [],
   "source": []
  },
  {
   "cell_type": "code",
   "execution_count": 26,
   "id": "9869e8da-56ca-406a-8db6-7c5549908bc5",
   "metadata": {},
   "outputs": [
    {
     "data": {
      "image/png": "[encoded data removed]",
      "text/plain": [
       "<Figure size 432x288 with 1 Axes>"
      ]
     },
     "metadata": {
      "needs_background": "light"
     },
     "output_type": "display_data"
    }
   ],
   "source": [
    "SSE =[]\n",
    "for k in range(1,10):\n",
    "    model_k = KMeans(n_clusters=k)\n",
    "    model_k.fit(dt)\n",
    "    SSE.append(model_k.inertia_)\n",
    "X = range(1,10)\n",
    "plt.xlabel('k (t-SNE)')  \n",
    "plt.ylabel('SSE')  \n",
    "plt.plot(X,SSE,'o-')  \n",
    "plt.show()"
   ]
  },
  {
   "cell_type": "code",
   "execution_count": 27,
   "id": "f45d1f8d-52ef-4aae-8a1e-88797b4a9704",
   "metadata": {},
   "outputs": [],
   "source": [
    "#按5類分\n",
    "kms5=KMeans(n_clusters=5)\n",
    "y5=kms5.fit_predict(dt)\n",
    "# print(y5)\n",
    "y5=pd.DataFrame(y5, columns = ['kind-5'])\n",
    "# #按4類分\n",
    "kms4=KMeans(n_clusters=4)\n",
    "y4=kms4.fit_predict(dt)\n",
    "y4 = pd.DataFrame(y4, columns = ['kind-4'])\n",
    "# 按3類分\n",
    "kms3=KMeans(n_clusters=3)\n",
    "y3=kms3.fit_predict(dt)\n",
    "y3 = pd.DataFrame(y3, columns = ['kind-3'])"
   ]
  },
  {
   "cell_type": "markdown",
   "id": "01deebf4-6a04-43e3-ad86-23d79e8dd94b",
   "metadata": {},
   "source": [
    "計算所有樣本的平均輪廓係數"
   ]
  },
  {
   "cell_type": "code",
   "execution_count": 29,
   "id": "5f13d36f-e183-4f98-9a9c-762b73be9d66",
   "metadata": {},
   "outputs": [
    {
     "name": "stderr",
     "output_type": "stream",
     "text": [
      "/opt/conda/lib/python3.9/site-packages/sklearn/utils/validation.py:985: DataConversionWarning: A column-vector y was passed when a 1d array was expected. Please change the shape of y to (n_samples, ), for example using ravel().\n",
      "  y = column_or_1d(y, warn=True)\n"
     ]
    },
    {
     "name": "stdout",
     "output_type": "stream",
     "text": [
      "cluster = 3, score =  0.43159204698364195\n"
     ]
    },
    {
     "name": "stderr",
     "output_type": "stream",
     "text": [
      "/opt/conda/lib/python3.9/site-packages/sklearn/utils/validation.py:985: DataConversionWarning: A column-vector y was passed when a 1d array was expected. Please change the shape of y to (n_samples, ), for example using ravel().\n",
      "  y = column_or_1d(y, warn=True)\n"
     ]
    },
    {
     "name": "stdout",
     "output_type": "stream",
     "text": [
      "cluster = 4, score =  0.3713930480215379\n"
     ]
    },
    {
     "name": "stderr",
     "output_type": "stream",
     "text": [
      "/opt/conda/lib/python3.9/site-packages/sklearn/utils/validation.py:985: DataConversionWarning: A column-vector y was passed when a 1d array was expected. Please change the shape of y to (n_samples, ), for example using ravel().\n",
      "  y = column_or_1d(y, warn=True)\n"
     ]
    },
    {
     "name": "stdout",
     "output_type": "stream",
     "text": [
      "cluster = 5, score =  0.3435616989656187\n"
     ]
    }
   ],
   "source": [
    "from sklearn.metrics import silhouette_score\n",
    "score_3 = silhouette_score(dt, y3)\n",
    "print(\"cluster = 3, score = \",score_3)\n",
    "score_4 = silhouette_score(dt, y4)\n",
    "print(\"cluster = 4, score = \",score_4)\n",
    "score_5 = silhouette_score(dt, y5)\n",
    "print(\"cluster = 5, score = \",score_5)"
   ]
  },
  {
   "cell_type": "code",
   "execution_count": null,
   "id": "0b85ee3b-f62a-45ad-b769-6a6875709470",
   "metadata": {},
   "outputs": [],
   "source": [
    "data = pd.concat([df, y3], axis = 1)\n",
    "# data = pd.concat([data, y5], axis = 1)\n",
    "# data = pd.concat([data, y3], axis = 1)"
   ]
  },
  {
   "cell_type": "code",
   "execution_count": null,
   "id": "26addd11-d0cf-4727-9871-3686334091dd",
   "metadata": {},
   "outputs": [],
   "source": [
    "data"
   ]
  },
  {
   "cell_type": "code",
   "execution_count": null,
   "id": "a80bba34-f779-4fd4-8c68-8fabb07c829c",
   "metadata": {},
   "outputs": [],
   "source": [
    "df_author = pd.read_csv('./mySQL_author.csv')\n",
    "df_author = df_author[['aut_id', 'author']]"
   ]
  },
  {
   "cell_type": "code",
   "execution_count": null,
   "id": "ab1a430a-654a-4803-bea6-a571a77f69e4",
   "metadata": {},
   "outputs": [],
   "source": [
    "df_author['author'] =df_author['author'].astype('str')\n",
    "data['author'] = data['author'].astype('str')\n",
    "# df_info\n",
    "df=data.merge(df_author,on=['author'],how='left')\n",
    "df"
   ]
  },
  {
   "cell_type": "code",
   "execution_count": null,
   "id": "021e6627-96c0-4707-8831-d2b2eb8cb39e",
   "metadata": {},
   "outputs": [],
   "source": [
    "df = df[['author', 'aut_id', 'kind-3']]\n",
    "df"
   ]
  },
  {
   "cell_type": "code",
   "execution_count": null,
   "id": "2577b6df-b0e4-4c20-8ed1-e9d77df84412",
   "metadata": {},
   "outputs": [],
   "source": [
    "df.to_csv('./author_group.csv', index=None)"
   ]
  },
  {
   "cell_type": "code",
   "execution_count": null,
   "id": "4dfc446c-a707-435a-923e-78ae1e94569d",
   "metadata": {
    "scrolled": true,
    "tags": []
   },
   "outputs": [],
   "source": [
    "print(data.loc[data['kind-4']==0].shape)\n",
    "print(data.loc[data['kind-4']==1].shape)\n",
    "print(data.loc[data['kind-4']==2].shape)\n",
    "print(data.loc[data['kind-4']==3].shape)"
   ]
  },
  {
   "cell_type": "code",
   "execution_count": null,
   "id": "8ecab94d-bdf5-409a-a46b-4dd986914cba",
   "metadata": {},
   "outputs": [],
   "source": []
  },
  {
   "cell_type": "code",
   "execution_count": null,
   "id": "76330e22-d9cd-47dd-91bf-3b7b72a24c71",
   "metadata": {},
   "outputs": [],
   "source": [
    "print(data.loc[data['kind-3']==0].shape)\n",
    "print(data.loc[data['kind-3']==1].shape)\n",
    "print(data.loc[data['kind-3']==2].shape)"
   ]
  },
  {
   "cell_type": "code",
   "execution_count": null,
   "id": "5c7da7a8-593c-48b2-a4f4-b886c922f6e1",
   "metadata": {},
   "outputs": [],
   "source": [
    "print(data.loc[data['kind-5']==0].shape)\n",
    "print(data.loc[data['kind-5']==1].shape)\n",
    "print(data.loc[data['kind-5']==2].shape)\n",
    "print(data.loc[data['kind-5']==3].shape)\n",
    "print(data.loc[data['kind-5']==4].shape)"
   ]
  },
  {
   "cell_type": "code",
   "execution_count": null,
   "id": "701f5043-b0ef-4a9b-8234-b812eca3d72f",
   "metadata": {},
   "outputs": [],
   "source": [
    "# data = data[['author', 'kind-4', 'kind-5']]\n",
    "# data.to_csv('./check.csv')"
   ]
  },
  {
   "cell_type": "code",
   "execution_count": null,
   "id": "541017cb-436b-47c6-8fdd-1c3901641df1",
   "metadata": {},
   "outputs": [],
   "source": [
    "data_0 = data[data['kind-3']==0]\n",
    "data_1 = data[data['kind-3']==1]\n",
    "data_2 = data[data['kind-3']==2]\n",
    "data_0.head(1)"
   ]
  },
  {
   "cell_type": "code",
   "execution_count": null,
   "id": "455008da-10ed-4c71-b6b2-1ebcbbd07be8",
   "metadata": {},
   "outputs": [],
   "source": [
    "def countwords(row):\n",
    "    output_list = []\n",
    "    output_dic = {}\n",
    "    for l in row:\n",
    "        for j in l:\n",
    "            output_list.append(j)       \n",
    "    \n",
    "    for item in output_list:\n",
    "        output_dic[item] = output_list.count(item)\n",
    "    return sorted(output_dic.items(), key=lambda x:x[1], reverse=True)[:500]\n",
    "    # print(f\"the {item} has found {y.count(item)}\")\n"
   ]
  },
  {
   "cell_type": "code",
   "execution_count": null,
   "id": "bacb813b-dbbd-4b64-8ef0-97e4e9c5745f",
   "metadata": {},
   "outputs": [],
   "source": [
    "酒廊、隔音、親子、健身房、泡湯、溜滑梯、浪漫、熱心、備品、日式、嬰兒、友善"
   ]
  },
  {
   "cell_type": "code",
   "execution_count": null,
   "id": "46beab99-b804-419a-999b-bcfa232ae7eb",
   "metadata": {
    "scrolled": true,
    "tags": []
   },
   "outputs": [],
   "source": [
    "print(countwords(data_0['keywords']))"
   ]
  },
  {
   "cell_type": "markdown",
   "id": "3fdb5556-72b3-49d2-9ff8-d45a1f7f5ebf",
   "metadata": {},
   "source": [
    "朋友、女生、下午茶、中式、浪漫、雙人、西式、客廳、氣氛、啤酒、少女"
   ]
  },
  {
   "cell_type": "code",
   "execution_count": null,
   "id": "aa9f69b0-e077-4bb7-b7e9-44d4fb3045dc",
   "metadata": {
    "tags": []
   },
   "outputs": [],
   "source": [
    "print(countwords(data_1['keywords']))"
   ]
  },
  {
   "cell_type": "markdown",
   "id": "9f6bd0a1-9f43-4426-a13a-aacc5d629094",
   "metadata": {},
   "source": [
    "市區、便宜、平價、汽車、優質、完美、背包客、車站、木地板、好康、海景"
   ]
  },
  {
   "cell_type": "code",
   "execution_count": null,
   "id": "6b88126f-a5bc-4c0f-ac11-2f34422f4950",
   "metadata": {
    "tags": []
   },
   "outputs": [],
   "source": [
    "print(countwords(data_2['keywords']))"
   ]
  },
  {
   "cell_type": "code",
   "execution_count": null,
   "id": "ef41b7bb-1eea-45cd-b83f-d0c7ad4a9df0",
   "metadata": {},
   "outputs": [],
   "source": [
    "group_0 =('酒廊','隔音','親子','健身房','溜滑梯','熱心','備品','日式','嬰兒','友善')\n",
    "group_1 =('朋友','女生','下午茶','中式','浪漫','雙人','西式','客廳','氣氛','啤酒')\n",
    "group_2 =('市區','便宜','平價','汽車','優質','完美','背包客','車站','木地板','好康')\n",
    "\n",
    "a = pd.Series(group_0, dtype=str, name='0')\n",
    "b = pd.Series(group_1, dtype=str, name='1')\n",
    "c = pd.Series(group_2, dtype=str, name='2')\n",
    "datas = pd.concat([a, b, c], axis = 1)\n",
    "datas = datas.T\n",
    "datas['tags'] = datas.values.tolist()\n",
    "datas = datas[['tags']]\n",
    "datas.to_csv('./group_tags.csv', index=None)"
   ]
  },
  {
   "cell_type": "markdown",
   "id": "ba800ba2-a2f6-4c28-aeca-d39efeb56552",
   "metadata": {
    "jp-MarkdownHeadingCollapsed": true,
    "tags": []
   },
   "source": [
    "# Test"
   ]
  },
  {
   "cell_type": "code",
   "execution_count": null,
   "id": "07ae94d6-30cc-420f-9365-4c97e87a3451",
   "metadata": {},
   "outputs": [],
   "source": []
  },
  {
   "cell_type": "code",
   "execution_count": null,
   "id": "729d35be-2e1e-4609-8d5c-e7cdbb8b12c8",
   "metadata": {},
   "outputs": [],
   "source": [
    "a = ['早餐', '日式', '親子', '友善', '安靜']\n",
    "b = buildWordVector(model, a , 50)\n",
    "print(b)\n",
    "# y4 = pd.DataFrame(y4, columns = ['kind-4'])"
   ]
  },
  {
   "cell_type": "code",
   "execution_count": null,
   "id": "b8d5160c-38c9-49a5-bb02-50463d97f86a",
   "metadata": {},
   "outputs": [],
   "source": []
  },
  {
   "cell_type": "code",
   "execution_count": null,
   "id": "c4b34286-1a10-4d7c-b5d4-755a86a3540a",
   "metadata": {},
   "outputs": [],
   "source": []
  },
  {
   "cell_type": "code",
   "execution_count": null,
   "id": "0e195a43-b853-46a3-a283-bab14c218d2a",
   "metadata": {},
   "outputs": [],
   "source": []
  }
 ],
 "metadata": {
  "kernelspec": {
   "display_name": "Python 3 (ipykernel)",
   "language": "python",
   "name": "python3"
  },
  "language_info": {
   "codemirror_mode": {
    "name": "ipython",
    "version": 3
   },
   "file_extension": ".py",
   "mimetype": "text/x-python",
   "name": "python",
   "nbconvert_exporter": "python",
   "pygments_lexer": "ipython3",
   "version": "3.9.7"
  }
 },
 "nbformat": 4,
 "nbformat_minor": 5
}
