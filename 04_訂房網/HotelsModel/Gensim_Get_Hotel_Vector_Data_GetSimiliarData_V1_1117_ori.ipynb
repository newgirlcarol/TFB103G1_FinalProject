{
 "cells": [
  {
   "cell_type": "markdown",
   "metadata": {},
   "source": [
    "### open hotel data"
   ]
  },
  {
   "cell_type": "code",
   "execution_count": null,
   "metadata": {
    "ExecuteTime": {
     "end_time": "2021-11-12T02:18:30.925910Z",
     "start_time": "2021-11-12T02:18:29.924248Z"
    }
   },
   "outputs": [],
   "source": [
    "%%time\n",
    "# to get a cell executation time\n",
    "# put %%time at the very start of the cell\n",
    "import pandas as pd\n",
    "import jieba\n",
    "import time\n",
    "#Get Jieba  Dictionary \n",
    "jieba.set_dictionary('./jieba_dict/dict.txt.big')\n",
    "df = pd.read_csv('D:\\\\SW_Dev\\\\MainProject\\\\DataClearing\\\\booking_com_ALL10_25_23_06_1109-copy.csv')\n",
    "print('\\ndata qty= ',len(df))\n",
    "df.head(5)\n"
   ]
  },
  {
   "cell_type": "code",
   "execution_count": null,
   "metadata": {
    "ExecuteTime": {
     "end_time": "2021-11-12T02:18:39.311734Z",
     "start_time": "2021-11-12T02:18:38.236733Z"
    }
   },
   "outputs": [],
   "source": [
    "%%time\n",
    "# to get a cell executation time\n",
    "# put %%time at the very start of the cell\n",
    "#Import Jieba Module\n",
    "import jieba.posseg as pseg\n",
    "# Combine the ROW\n",
    "df_feature_ori = df[['hotel-city','hotel-name','hotel-star-rank','hotel-review-scores','room-price','hotel-feature-key','hotel-feature-list']]\n",
    "\n",
    "df_feature =df_feature_ori.copy()\n",
    "\n",
    "# remove the next Line\n",
    "df_feature['hotel-feature-list'].replace(r'\\s+|\\\\n', ' ', regex=True, inplace=True) \n",
    "# remove the next Line\n",
    "df_feature['hotel-name'].replace(r'\\s+|\\\\n', ' ', regex=True, inplace=True) \n",
    "# remove the next Line\n",
    "df_feature['hotel-feature-key'].replace(r'\\s+|\\\\n', ' ', regex=True, inplace=True) \n",
    "\n",
    "print('')\n",
    "df_feature['hotel-feature-list'].head(5)\n",
    "# For each row, combine all the columns into one column\n",
    "hotel_data_list = df_feature.apply(lambda x: ','.join(x.astype(str)), axis=1)\n",
    "# hotel_data_list = hotel_data_list.replace({'\\n': ''}, regex=True)\n",
    "print('\\nelement = ', hotel_data_list[1])\n",
    "hotel_data_list.head(5)\n"
   ]
  },
  {
   "cell_type": "code",
   "execution_count": null,
   "metadata": {
    "ExecuteTime": {
     "end_time": "2021-11-12T02:22:28.220498Z",
     "start_time": "2021-11-12T02:18:47.428240Z"
    },
    "scrolled": true,
    "tags": []
   },
   "outputs": [],
   "source": [
    "%%time\n",
    "# to get a cell executation time\n",
    "# put %%time at the very start of the cell\n",
    "# 斷詞\n",
    "start_time = time.time()\n",
    "import jieba.posseg as pseg\n",
    "#jieba.enable_paddle()\n",
    "#jieba.enable_parallel(4) --> this will be going wrong in win10 \n",
    "seg = []\n",
    "for i in range(len(hotel_data_list)):\n",
    "    cut_result = list(pseg.cut(hotel_data_list[i], use_paddle=False))\n",
    "    each_line_list = []\n",
    "    for w, p in cut_result:\n",
    "        print(\"%s: %s\"%(w, p))\n",
    "        if p in ['n', 'nr','ns','nt','nz','nl','ng', 't', 's','vn']:\n",
    "            print(\"%s: %s\"%(w, p))\n",
    "            each_line_list.append(w)\n",
    "    new_line = ' '.join(each_line_list)\n",
    "    print(seg)\n",
    "    seg.append(new_line)\n",
    "print(\"--- spend %s seconds ---\" % (time.time() - start_time))"
   ]
  },
  {
   "cell_type": "code",
   "execution_count": null,
   "metadata": {},
   "outputs": [],
   "source": []
  },
  {
   "cell_type": "markdown",
   "metadata": {},
   "source": [
    "### 斷詞測試"
   ]
  },
  {
   "cell_type": "markdown",
   "metadata": {},
   "source": [
    "#### 詞性說明: https://gist.github.com/luw2007/6016931"
   ]
  },
  {
   "cell_type": "markdown",
   "metadata": {},
   "source": [
    "### 進行斷字斷詞"
   ]
  },
  {
   "cell_type": "code",
   "execution_count": null,
   "metadata": {
    "ExecuteTime": {
     "end_time": "2021-11-12T02:24:03.851885Z",
     "start_time": "2021-11-12T02:24:03.835855Z"
    },
    "tags": []
   },
   "outputs": [],
   "source": [
    "%%time\n",
    "# to get a cell executation time\n",
    "# put %%time at the very start of the cell\n",
    "print(len(seg))"
   ]
  },
  {
   "cell_type": "code",
   "execution_count": null,
   "metadata": {
    "ExecuteTime": {
     "start_time": "2021-11-12T02:13:01.672Z"
    },
    "scrolled": true,
    "tags": []
   },
   "outputs": [],
   "source": [
    "#seg = [ s for s in seg if len(s) > 0] \n",
    "seg"
   ]
  },
  {
   "cell_type": "markdown",
   "metadata": {},
   "source": [
    "### 準備存檔，將斷好的字詞存下來。先刪除之前留下的紀錄檔案(segDone.txt)"
   ]
  },
  {
   "cell_type": "code",
   "execution_count": null,
   "metadata": {
    "ExecuteTime": {
     "start_time": "2021-11-12T02:13:01.697Z"
    }
   },
   "outputs": [],
   "source": [
    "!del segDone.txt"
   ]
  },
  {
   "cell_type": "markdown",
   "metadata": {},
   "source": [
    "### 斷詞結果存檔"
   ]
  },
  {
   "cell_type": "code",
   "execution_count": null,
   "metadata": {
    "ExecuteTime": {
     "end_time": "2021-11-12T02:24:48.581696Z",
     "start_time": "2021-11-12T02:24:47.105672Z"
    },
    "scrolled": true,
    "tags": []
   },
   "outputs": [],
   "source": [
    "%%time\n",
    "# to get a cell executation time\n",
    "# put %%time at the very start of the cell\n",
    "# 斷詞結果存檔\n",
    "segSaveFile = '.\\segmentHotelDataDone_add_hotel_name_v2_1117.txt'\n",
    "with open(segSaveFile, 'wb') as saveFile:\n",
    "    for i in range(len(seg)):\n",
    "        print('\\ni= ', i)\n",
    "        #words = seg[i][0].encode('utf-8')\n",
    "        words = seg[i].encode('utf-8')\n",
    "        print('\\nwords= ', words)\n",
    "        if len(words) > 0:\n",
    "            saveFile.write(words)\n",
    "            saveFile.write('\\n'.encode())"
   ]
  },
  {
   "cell_type": "code",
   "execution_count": null,
   "metadata": {
    "ExecuteTime": {
     "start_time": "2021-11-12T02:13:01.730Z"
    }
   },
   "outputs": [],
   "source": [
    "!head -10 segDone.txt"
   ]
  },
  {
   "cell_type": "code",
   "execution_count": null,
   "metadata": {
    "ExecuteTime": {
     "start_time": "2021-11-12T02:13:01.732Z"
    }
   },
   "outputs": [],
   "source": [
    "!cat segDone.txt | wc -c"
   ]
  },
  {
   "cell_type": "markdown",
   "metadata": {},
   "source": [
    "### 載入word2vec 函式庫\n",
    "### 參考網頁：https://radimrehurek.com/gensim/models/word2vec.html"
   ]
  },
  {
   "cell_type": "code",
   "execution_count": null,
   "metadata": {
    "ExecuteTime": {
     "end_time": "2021-11-17T11:53:48.073050Z",
     "start_time": "2021-11-17T11:53:48.069010Z"
    }
   },
   "outputs": [],
   "source": [
    "from gensim.models import word2vec"
   ]
  },
  {
   "cell_type": "code",
   "execution_count": null,
   "metadata": {
    "ExecuteTime": {
     "end_time": "2021-11-17T12:23:59.421488Z",
     "start_time": "2021-11-17T12:23:59.396448Z"
    }
   },
   "outputs": [],
   "source": [
    "model.wv.key_to_index"
   ]
  },
  {
   "cell_type": "markdown",
   "metadata": {},
   "source": [
    "### 一行一行的從檔案中取出句子：一行一個句子，句子中的字必須預先處理好並以空白隔開"
   ]
  },
  {
   "cell_type": "code",
   "execution_count": null,
   "metadata": {
    "ExecuteTime": {
     "end_time": "2021-11-17T11:53:51.480631Z",
     "start_time": "2021-11-17T11:53:51.245629Z"
    },
    "scrolled": true,
    "tags": []
   },
   "outputs": [],
   "source": [
    "%%time\n",
    "# to get a cell executation time\n",
    "# put %%time at the very start of the cell\n",
    "from gensim.models import word2vec\n",
    "sentences = word2vec.LineSentence('.\\segmentHotelDataDone_add_hotel_name_v3_1111.txt')\n",
    "for line in sentences:\n",
    "    print('\\nline =', line)"
   ]
  },
  {
   "cell_type": "markdown",
   "metadata": {},
   "source": [
    "### 訓練模型\n",
    "#### size: 向量維度 = 300\n",
    "#### sg: 0(CBOW), 1(Skip-gram)\n",
    "\n",
    "vector_size (int, optional) – \n",
    "Dimensionality of the word vectors.\n",
    "\n",
    "window (int, optional) – \n",
    "Maximum distance between the current and predicted word within a sentence.\n",
    "\n",
    "min_count (int, optional) – \n",
    "Ignores all words with total frequency lower than this.\n",
    "\n",
    "workers (int, optional) – \n",
    "Use these many worker threads to train the model (=faster training with multicore machines).\n",
    "\n",
    "sg ({0, 1}, optional) – \n",
    "Training algorithm: 1 for skip-gram; otherwise CBOW."
   ]
  },
  {
   "cell_type": "code",
   "execution_count": null,
   "metadata": {
    "ExecuteTime": {
     "end_time": "2021-11-17T12:00:49.444213Z",
     "start_time": "2021-11-17T12:00:46.317504Z"
    }
   },
   "outputs": [],
   "source": [
    "start_time = time.time()\n",
    "# model = word2vec.Word2Vec(sentences, vector_size=150, sg=1, window=10, workers=3, min_count=1)\n",
    "model = word2vec.Word2Vec(sentences, vector_size=300, sg=1, window=15, workers=3, min_count=1)\n",
    "\n",
    "print(\"--- spend %s seconds ---\" % (time.time() - start_time))"
   ]
  },
  {
   "cell_type": "code",
   "execution_count": null,
   "metadata": {
    "ExecuteTime": {
     "end_time": "2021-11-17T12:00:49.459229Z",
     "start_time": "2021-11-17T12:00:49.447212Z"
    }
   },
   "outputs": [],
   "source": [
    "model"
   ]
  },
  {
   "cell_type": "markdown",
   "metadata": {},
   "source": [
    "### 儲存訓練好的word2vec 模型"
   ]
  },
  {
   "cell_type": "code",
   "execution_count": null,
   "metadata": {
    "ExecuteTime": {
     "end_time": "2021-11-17T12:00:52.710063Z",
     "start_time": "2021-11-17T12:00:52.699102Z"
    }
   },
   "outputs": [],
   "source": [
    "# from gensim.models import word2vec\n",
    "import gensim\n",
    "# model.save('.\\hotel_data_word2vec_v4_1117.model')\n",
    "# Load Word2Vec\n",
    "model = gensim.models.Word2Vec.load('.\\hotel_data_word2vec_v4_1117.model')"
   ]
  },
  {
   "cell_type": "code",
   "execution_count": null,
   "metadata": {
    "ExecuteTime": {
     "end_time": "2021-11-17T12:00:37.129966Z",
     "start_time": "2021-11-17T12:00:37.122967Z"
    }
   },
   "outputs": [],
   "source": [
    "model.corpus_total_words"
   ]
  },
  {
   "cell_type": "code",
   "execution_count": null,
   "metadata": {
    "ExecuteTime": {
     "end_time": "2021-11-17T12:00:54.905910Z",
     "start_time": "2021-11-17T12:00:54.885289Z"
    }
   },
   "outputs": [],
   "source": [
    "SimiliarHotel = model.wv.most_similar('森浩文旅')\n",
    "SimiliarHotel"
   ]
  },
  {
   "cell_type": "code",
   "execution_count": null,
   "metadata": {
    "ExecuteTime": {
     "end_time": "2021-11-17T12:01:36.772590Z",
     "start_time": "2021-11-17T12:01:36.764589Z"
    }
   },
   "outputs": [],
   "source": [
    "SimiliarHotel = model.wv.most_similar('好得文旅')\n",
    "SimiliarHotel"
   ]
  },
  {
   "cell_type": "code",
   "execution_count": null,
   "metadata": {
    "ExecuteTime": {
     "end_time": "2021-11-17T12:02:22.075435Z",
     "start_time": "2021-11-17T12:02:22.058454Z"
    }
   },
   "outputs": [],
   "source": [
    "SimiliarHotel = model.wv.most_similar('西悠飯店台北店')\n",
    "SimiliarHotel"
   ]
  },
  {
   "cell_type": "code",
   "execution_count": null,
   "metadata": {
    "ExecuteTime": {
     "end_time": "2021-11-17T12:02:28.825152Z",
     "start_time": "2021-11-17T12:02:28.732124Z"
    }
   },
   "outputs": [],
   "source": [
    "%%time\n",
    "# to get a cell executation time\n",
    "# put %%time at the very start of the cell\n",
    "import pandas as pd\n",
    "import jieba\n",
    "import time\n",
    "#Get Jieba  Dictionary \n",
    "jieba.set_dictionary('./jieba_dict/dict.txt.big')\n",
    "df = pd.read_csv('D:\\\\SW_Dev\\\\MainProject\\\\DataClearing\\\\booking_com_ALL10_25_23_06_1109-copy.csv')\n",
    "print('\\ndata qty= ',len(df))\n",
    "df.head(5)\n",
    "# Combine the ROW\n",
    "df_feature_ori = df[['hotel_id','hotel_name']]\n",
    "\n",
    "df_feature =df_feature_ori.copy()\n",
    "\n",
    "# remove the next Line\n",
    "df_feature['hotel_name'].replace(r'\\s+|\\\\n', ' ', regex=True, inplace=True) \n",
    "df_feature.head(10)\n",
    "\n",
    "recommand = pd.DataFrame()\n",
    "\n",
    "recommand['hotel_id'] = df_feature['hotel_id']\n",
    "recommand['hotel_name'] = df_feature['hotel_name']\n",
    "# recommand_hotel['sim'] = df_feature['hotel_id']\n",
    "\n",
    "recommand['1st_sim_id'] = df_feature['hotel_id']\n",
    "recommand['1st_sim_name'] = df_feature['hotel_name']\n",
    "# recommand_hotel['1st_sim'] = df_feature['hotel_id']\n",
    "\n",
    "recommand['2nd_sim_id'] = df_feature['hotel_id']\n",
    "recommand['2nd_sim_name'] = df_feature['hotel_name']\n",
    "# recommand_hotel['2nd_sim'] = df_feature['hotel_id']\n",
    "\n",
    "recommand['3rd_sim_id'] = df_feature['hotel_id']\n",
    "recommand['3rd_sim_name'] = df_feature['hotel_name']\n",
    "# recommand_hotel['3rd_sim'] = df_feature['hotel_id']\n",
    "\n",
    "recommand_hotel = recommand.copy()"
   ]
  },
  {
   "cell_type": "code",
   "execution_count": null,
   "metadata": {},
   "outputs": [],
   "source": [
    "# recommand_hotel = pd.DataFrame(columns=['hotel_name', 'hotel_id', '1st_similiar', '1st_similiar_id', '2nd_similiar', '2nd_similiar_id', '3rd_similiar', '3rd_similiar_id'])"
   ]
  },
  {
   "cell_type": "code",
   "execution_count": null,
   "metadata": {
    "ExecuteTime": {
     "end_time": "2021-11-17T10:44:29.813237Z",
     "start_time": "2021-11-17T10:44:29.462249Z"
    },
    "scrolled": true,
    "tags": []
   },
   "outputs": [],
   "source": [
    "for i in df_feature.index : \n",
    "    print('\\n hotel-id =', df_feature['hotel_id'][i],' hotel-name = ',df_feature['hotel_name'][i])"
   ]
  },
  {
   "cell_type": "code",
   "execution_count": null,
   "metadata": {
    "ExecuteTime": {
     "end_time": "2021-11-17T10:44:42.385482Z",
     "start_time": "2021-11-17T10:44:42.074431Z"
    },
    "scrolled": true,
    "tags": []
   },
   "outputs": [],
   "source": []
  },
  {
   "cell_type": "code",
   "execution_count": null,
   "metadata": {
    "ExecuteTime": {
     "end_time": "2021-11-17T10:44:55.097724Z",
     "start_time": "2021-11-17T10:44:54.894726Z"
    },
    "scrolled": true,
    "tags": []
   },
   "outputs": [],
   "source": [
    "for i in df_feature.index : \n",
    "    print(df_feature['hotel_id'][i], df_feature['hotel_name'][i])"
   ]
  },
  {
   "cell_type": "markdown",
   "metadata": {},
   "source": [
    "# 詞相似度"
   ]
  },
  {
   "cell_type": "code",
   "execution_count": null,
   "metadata": {
    "ExecuteTime": {
     "end_time": "2021-11-17T10:44:57.738538Z",
     "start_time": "2021-11-17T10:44:57.730502Z"
    }
   },
   "outputs": [],
   "source": [
    "SimiliarHotel = model.wv.most_similar('森浩文旅')\n",
    "SimiliarHotel"
   ]
  },
  {
   "cell_type": "code",
   "execution_count": null,
   "metadata": {
    "ExecuteTime": {
     "end_time": "2021-11-17T12:25:44.212036Z",
     "start_time": "2021-11-17T12:25:44.199037Z"
    }
   },
   "outputs": [],
   "source": [
    "w2v_key_list = model.wv.index_to_key"
   ]
  },
  {
   "cell_type": "code",
   "execution_count": null,
   "metadata": {
    "ExecuteTime": {
     "end_time": "2021-11-17T12:24:57.592511Z",
     "start_time": "2021-11-17T12:24:57.566506Z"
    }
   },
   "outputs": [],
   "source": [
    "\n",
    "model.wv.key_to_index"
   ]
  },
  {
   "cell_type": "code",
   "execution_count": null,
   "metadata": {
    "ExecuteTime": {
     "end_time": "2021-11-17T10:59:46.883681Z",
     "start_time": "2021-11-17T10:59:46.868687Z"
    }
   },
   "outputs": [],
   "source": [
    "df_feature.info()\n",
    "recommand_hotel.info()            \n"
   ]
  },
  {
   "cell_type": "code",
   "execution_count": null,
   "metadata": {
    "ExecuteTime": {
     "end_time": "2021-11-17T12:27:18.353104Z",
     "start_time": "2021-11-17T12:27:18.320250Z"
    }
   },
   "outputs": [],
   "source": [
    "\n",
    "HotelList =[]\n",
    "SimiliarList = []\n",
    "TargetHotel ='台北109青旅'\n",
    "SimiliarHotel = model.wv.most_similar(TargetHotel)\n",
    "w2v_key_list = model.wv.index_to_key\n",
    "print('\\n Word to Vector tpye= ',type(w2v_key_list))\n",
    "print('\\n type', type(SimiliarHotel))\n",
    "print('\\n len', len(SimiliarHotel))\n",
    "# for i in SimiliarHotel:\n",
    "#     print('\\n Similiar =',i)\n",
    "#     print('\\n i-0 =', i[0])\n",
    "#     print('\\n i-1 =', i[1])\n",
    "countMAX = 0\n",
    "for idx in range(0,len(df_feature.index)):\n",
    "    if\n",
    "    Target = df_feature['hotel_name'][idx]\n",
    "    for item in w2v_key_list:\n",
    "\n",
    "    print('\\n target = ',Target )\n",
    "    SimiliarHotel = model.wv.most_similar(Target)\n",
    "    for item in SimiliarHotel:\n",
    "        if TargetHotel in df_feature['hotel_name'][idx]:\n",
    "            print('\\n start = ',  df_feature['hotel_name'][idx])\n",
    "            print('\\n start = ',  df_feature['hotel_name'][idx])\n",
    "            SimiliarList.append([[df_feature['hotel_id'][idx]],[df_feature['hotel_name'][idx]]]) \n",
    "        if item[0] in df_feature['hotel_name'][idx]:\n",
    "            print('\\n col data = ',idx, df_feature['hotel_name'][idx])                \n",
    "            if countMAX == 0:                \n",
    "                print('\\ncountMAX =', countMAX)   \n",
    "                SimiliarList.append([[df_feature['hotel_id'][idx]],[df_feature['hotel_name'][idx],item[1]]]) \n",
    "            if countMAX == 1: \n",
    "                print('\\ncountMAX =', countMAX)\n",
    "                SimiliarList.append([[df_feature['hotel_id'][idx]],[df_feature['hotel_name'][idx],item[1]]]) \n",
    "            if countMAX == 2:\n",
    "                print('\\ncountMAX =', countMAX)\n",
    "                SimiliarList.append([[df_feature['hotel_id'][idx]],[df_feature['hotel_name'][idx],item[1]]]) \n",
    "        countMAX +=1\n",
    "        if(countMAX > 2):\n",
    "            countMAX= 0\n",
    "            break            \n",
    "                \n",
    "#                 print('\\n Similiar =',i)\n",
    "#                 print('\\n i-0 =', idx[0])\n",
    "#                 print('\\n i-1 =', idx[1])\n",
    "\n",
    "\n",
    "# for idy in range(0, len(HotelList)):     \n",
    "#     print('\\n idy = ', idy,' HotelList= ',HotelList[idy])\n",
    "\n",
    "    \n",
    "# for idy in range(0, len(SimiliarList)):     \n",
    "#     print('\\n idy = ', idy,' SimiliarList= ',SimiliarList[idy])\n"
   ]
  },
  {
   "cell_type": "code",
   "execution_count": null,
   "metadata": {
    "ExecuteTime": {
     "end_time": "2021-11-17T11:43:15.180356Z",
     "start_time": "2021-11-17T11:43:15.110954Z"
    },
    "scrolled": true,
    "tags": []
   },
   "outputs": [],
   "source": [
    "# # this is backup Don't Run\n",
    "# HotelList =[]\n",
    "# SimiliarList = []\n",
    "# TargetHotel ='台北109青旅'\n",
    "# SimiliarHotel = model.wv.most_similar(TargetHotel)\n",
    "# print('\\n type', type(SimiliarHotel))\n",
    "# print('\\n len', len(SimiliarHotel))\n",
    "# # for i in SimiliarHotel:\n",
    "# #     print('\\n Similiar =',i)\n",
    "# #     print('\\n i-0 =', i[0])\n",
    "# #     print('\\n i-1 =', i[1])\n",
    "# countMAX = 0\n",
    "# for item in SimiliarHotel:\n",
    "#     print('\\n item ', item[0],item[1])\n",
    "#     for idx in range(0,len(df_feature.index)):\n",
    "#         #     print('\\n idx= ', idx)\n",
    "# #         print('\\n hotel in  ', df_feature['hotel_name'][idx])\n",
    "#         if TargetHotel in df_feature['hotel_name'][idx]:\n",
    "#                 print('\\n start = ',  df_feature['hotel_name'][idx])\n",
    "#                 print('\\n start = ',  df_feature['hotel_name'][idx])\n",
    "#                 SimiliarList.append([[df_feature['hotel_id'][idx]],[df_feature['hotel_name'][idx]]]) \n",
    "\n",
    "# #             recommand_hotel.at[idx,'hotel_name'] = TargetHotel\n",
    "# #             recommand_hotel.at[idx,'hotel_id'] = df_feature['hotel_id'][idx]\n",
    "# #             print('\\n id= ', df_feature['hotel_id'][idx])\n",
    "# #             print('\\n name= ', df_feature['hotel_name'][idx])\n",
    "#         if item[0] in df_feature['hotel_name'][idx]:\n",
    "#             print('\\n col data = ',idx, df_feature['hotel_name'][idx])                \n",
    "#             if countMAX == 0:                \n",
    "#                 print('\\ncountMAX =', countMAX)   \n",
    "#                 SimiliarList.append([[df_feature['hotel_id'][idx]],[df_feature['hotel_name'][idx],item[1]]]) \n",
    "                \n",
    "                \n",
    "# #                 recommand_hotel.at[idx,'1st_sim_id'] =  df_feature['hotel_id'][idx]\n",
    "# #                 recommand_hotel.at[idx,'1st_sim_name'] = [df_feature['hotel_name'][idx],item[1]]\n",
    "# #                 print('\\n id= ', recommand_hotel['1st_sim_id'][idx] )\n",
    "# #                 print('\\n name= ', recommand_hotel['1st_sim_name'][idx] )\n",
    "# #                 recommand_hotel['1st_sim_id'][idx] =  df_feature['hotel_id'][idx]\n",
    "# #                 recommand_hotel['1st_sim_name'][idx] = [df_feature['hotel_name'][idx],item[1]]\n",
    "#             if countMAX == 1: \n",
    "#                 print('\\ncountMAX =', countMAX)\n",
    "# #                 print('\\n ',df_feature['hotel_id'][idx])\n",
    "# #                 print('\\n ',[df_feature['hotel_name'][idx],item[1]])\n",
    "#                 SimiliarList.append([[df_feature['hotel_id'][idx]],[df_feature['hotel_name'][idx],item[1]]]) \n",
    "\n",
    "# #                 recommand_hotel['2nd_sim_id'][idx] =  df_feature['hotel_id'][idx]\n",
    "# #                 recommand_hotel['2nd_sim_name'][idx] = [df_feature['hotel_name'][idx],item[1]]\n",
    "#             if countMAX == 2:\n",
    "#                 print('\\ncountMAX =', countMAX)\n",
    "# #                 print('\\n ',df_feature['hotel_id'][idx])\n",
    "# #                 print('\\n ',[df_feature['hotel_name'][idx],item[1]])\n",
    "#                 SimiliarList.append([[df_feature['hotel_id'][idx]],[df_feature['hotel_name'][idx],item[1]]]) \n",
    "\n",
    "# #                 recommand_hotel['3rd_sim_id'][idx] =  df_feature['hotel_id'][idx]\n",
    "# #                 recommand_hotel['3rd_sim_name'][idx] = [df_feature['hotel_name'][idx],item[1]]\n",
    "                    \n",
    "#     countMAX +=1\n",
    "#     if(countMAX > 2):\n",
    "#         countMAX= 0\n",
    "#         break            \n",
    "\n",
    "# SimiliarList                \n",
    "                \n",
    "# #                 print('\\n Similiar =',i)\n",
    "# #                 print('\\n i-0 =', idx[0])\n",
    "# #                 print('\\n i-1 =', idx[1])\n",
    "\n",
    "\n",
    "# # for idy in range(0, len(HotelList)):     \n",
    "# #     print('\\n idy = ', idy,' HotelList= ',HotelList[idy])\n",
    "\n",
    "    \n",
    "# # for idy in range(0, len(SimiliarList)):     \n",
    "# #     print('\\n idy = ', idy,' SimiliarList= ',SimiliarList[idy])\n"
   ]
  },
  {
   "cell_type": "code",
   "execution_count": null,
   "metadata": {
    "ExecuteTime": {
     "end_time": "2021-11-17T11:32:05.581002Z",
     "start_time": "2021-11-17T11:32:05.560030Z"
    }
   },
   "outputs": [],
   "source": [
    "recommand_hotel.head(3)"
   ]
  },
  {
   "cell_type": "code",
   "execution_count": null,
   "metadata": {
    "ExecuteTime": {
     "end_time": "2021-11-12T03:56:51.124295Z",
     "start_time": "2021-11-12T03:56:51.077294Z"
    }
   },
   "outputs": [],
   "source": [
    "model.wv.similar_by_word('普樂室行旅')"
   ]
  },
  {
   "cell_type": "code",
   "execution_count": null,
   "metadata": {
    "ExecuteTime": {
     "end_time": "2021-11-12T03:56:51.183297Z",
     "start_time": "2021-11-12T03:56:51.138293Z"
    }
   },
   "outputs": [],
   "source": [
    "model.wv.similarity('阿樹國際旅店','美芙精品旅館')"
   ]
  },
  {
   "cell_type": "code",
   "execution_count": null,
   "metadata": {
    "ExecuteTime": {
     "end_time": "2021-11-12T03:56:51.229297Z",
     "start_time": "2021-11-12T03:56:51.203292Z"
    }
   },
   "outputs": [],
   "source": [
    "from sklearn.decomposition import IncrementalPCA    # inital reduction\n",
    "from sklearn.manifold import TSNE                   # final reduction\n",
    "import numpy as np                                  # array handling"
   ]
  },
  {
   "cell_type": "code",
   "execution_count": null,
   "metadata": {
    "ExecuteTime": {
     "end_time": "2021-11-12T03:56:51.306294Z",
     "start_time": "2021-11-12T03:56:51.248324Z"
    }
   },
   "outputs": [],
   "source": [
    "def reduce_dimensions(model):\n",
    "    num_dimensions = 2  # final num dimensions (2D, 3D, etc)\n",
    "\n",
    "    # extract the words & their vectors, as numpy arrays\n",
    "    vectors = np.asarray(model.wv.vectors)\n",
    "    labels = np.asarray(model.wv.index_to_key)  # fixed-width numpy strings\n",
    "\n",
    "    # reduce using t-SNE\n",
    "    tsne = TSNE(n_components=num_dimensions, random_state=0)\n",
    "    vectors = tsne.fit_transform(vectors)\n",
    "\n",
    "    x_vals = [v[0] for v in vectors]\n",
    "    y_vals = [v[1] for v in vectors]\n",
    "    return x_vals, y_vals, labels\n"
   ]
  },
  {
   "cell_type": "code",
   "execution_count": null,
   "metadata": {
    "ExecuteTime": {
     "end_time": "2021-11-12T03:58:15.371324Z",
     "start_time": "2021-11-12T03:56:51.358274Z"
    }
   },
   "outputs": [],
   "source": [
    "# print(x_vals)\n",
    "# print(y_vals)\n",
    "# print(labels)\n",
    "\n",
    "x_vals, y_vals, labels = reduce_dimensions(model)"
   ]
  },
  {
   "cell_type": "markdown",
   "metadata": {},
   "source": [
    "# 模型視覺化"
   ]
  },
  {
   "cell_type": "code",
   "execution_count": null,
   "metadata": {
    "ExecuteTime": {
     "end_time": "2021-11-12T03:58:16.317353Z",
     "start_time": "2021-11-12T03:58:15.384335Z"
    },
    "scrolled": true
   },
   "outputs": [],
   "source": [
    "def plot_with_plotly(x_vals, y_vals, labels, plot_in_notebook=True):\n",
    "    from plotly.offline import init_notebook_mode, iplot, plot\n",
    "    import plotly.graph_objs as go\n",
    "\n",
    "    trace = go.Scatter(x=x_vals, y=y_vals, mode='text', text=labels)\n",
    "    data = [trace]\n",
    "\n",
    "    if plot_in_notebook:\n",
    "        init_notebook_mode(connected=True)\n",
    "        iplot(data, filename='word-embedding-plot')\n",
    "    else:\n",
    "        plot(data, filename='word-embedding-plot.html')\n",
    "\n",
    "\n",
    "def plot_with_matplotlib(x_vals, y_vals, labels):\n",
    "    import matplotlib.pyplot as plt\n",
    "    import random\n",
    "\n",
    "    random.seed(0)\n",
    "\n",
    "    plt.figure(figsize=(12, 12))\n",
    "    plt.scatter(x_vals, y_vals)\n",
    "\n",
    "    #\n",
    "    # Label randomly subsampled 25 data points\n",
    "    #\n",
    "    indices = list(range(len(labels)))\n",
    "    selected_indices = random.sample(indices, 25)\n",
    "    for i in selected_indices:\n",
    "        plt.annotate(labels[i], (x_vals[i], y_vals[i]))\n",
    "\n",
    "try:\n",
    "    get_ipython()\n",
    "except Exception:\n",
    "    plot_function = plot_with_matplotlib\n",
    "else:\n",
    "    plot_function = plot_with_plotly\n",
    "\n",
    "plot_function(x_vals, y_vals, labels)"
   ]
  },
  {
   "cell_type": "code",
   "execution_count": null,
   "metadata": {},
   "outputs": [],
   "source": [
    "\n",
    "\n"
   ]
  }
 ],
 "metadata": {
  "interpreter": {
   "hash": "b1c273a6823a2cd1cd4e724e9b384a5bbe1eb95a33ad68797c98cfb2e06ff5cd"
  },
  "kernelspec": {
   "display_name": "py38",
   "language": "python",
   "name": "py38"
  },
  "language_info": {
   "codemirror_mode": {
    "name": "ipython",
    "version": 3
   },
   "file_extension": ".py",
   "mimetype": "text/x-python",
   "name": "python",
   "nbconvert_exporter": "python",
   "pygments_lexer": "ipython3",
   "version": "3.8.10"
  }
 },
 "nbformat": 4,
 "nbformat_minor": 4
}
